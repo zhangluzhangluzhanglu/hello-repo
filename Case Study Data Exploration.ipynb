{
 "cells": [
  {
   "cell_type": "code",
   "execution_count": 1,
   "metadata": {
    "collapsed": true
   },
   "outputs": [],
   "source": [
    "import pandas as pd\n",
    "import os\n",
    "import seaborn as sns\n",
    "import matplotlib.pyplot as plt\n",
    "import calendar\n",
    "import numpy\n",
    "from datetime import datetime as dt\n",
    "%matplotlib inline"
   ]
  },
  {
   "cell_type": "code",
   "execution_count": 2,
   "metadata": {
    "collapsed": false
   },
   "outputs": [],
   "source": [
    "# Import Files\n",
    "order = pd.read_csv('orders.csv')\n",
    "user = pd.read_csv('users.csv')"
   ]
  },
  {
   "cell_type": "code",
   "execution_count": 3,
   "metadata": {
    "collapsed": false
   },
   "outputs": [
    {
     "data": {
      "text/html": [
       "<div>\n",
       "<table border=\"1\" class=\"dataframe\">\n",
       "  <thead>\n",
       "    <tr style=\"text-align: right;\">\n",
       "      <th></th>\n",
       "      <th>id</th>\n",
       "      <th>user_id</th>\n",
       "      <th>order_time</th>\n",
       "      <th>item_total</th>\n",
       "      <th>shipping_cost</th>\n",
       "      <th>discounts_applied</th>\n",
       "      <th>payment_reject</th>\n",
       "    </tr>\n",
       "  </thead>\n",
       "  <tbody>\n",
       "    <tr>\n",
       "      <th>0</th>\n",
       "      <td>1</td>\n",
       "      <td>9852</td>\n",
       "      <td>2016-01-01 0:03:11</td>\n",
       "      <td>60.69</td>\n",
       "      <td>10</td>\n",
       "      <td>NaN</td>\n",
       "      <td>False</td>\n",
       "    </tr>\n",
       "    <tr>\n",
       "      <th>1</th>\n",
       "      <td>2</td>\n",
       "      <td>2784</td>\n",
       "      <td>2016-01-01 0:09:32</td>\n",
       "      <td>123.91</td>\n",
       "      <td>15</td>\n",
       "      <td>NaN</td>\n",
       "      <td>False</td>\n",
       "    </tr>\n",
       "    <tr>\n",
       "      <th>2</th>\n",
       "      <td>3</td>\n",
       "      <td>1619</td>\n",
       "      <td>2016-01-01 0:17:26</td>\n",
       "      <td>119.75</td>\n",
       "      <td>15</td>\n",
       "      <td>NaN</td>\n",
       "      <td>False</td>\n",
       "    </tr>\n",
       "    <tr>\n",
       "      <th>3</th>\n",
       "      <td>4</td>\n",
       "      <td>9725</td>\n",
       "      <td>2016-01-01 0:44:04</td>\n",
       "      <td>151.92</td>\n",
       "      <td>15</td>\n",
       "      <td>NaN</td>\n",
       "      <td>False</td>\n",
       "    </tr>\n",
       "    <tr>\n",
       "      <th>4</th>\n",
       "      <td>5</td>\n",
       "      <td>8892</td>\n",
       "      <td>2016-01-01 0:52:23</td>\n",
       "      <td>153.27</td>\n",
       "      <td>15</td>\n",
       "      <td>NaN</td>\n",
       "      <td>False</td>\n",
       "    </tr>\n",
       "  </tbody>\n",
       "</table>\n",
       "</div>"
      ],
      "text/plain": [
       "   id  user_id          order_time  item_total  shipping_cost  \\\n",
       "0   1     9852  2016-01-01 0:03:11       60.69             10   \n",
       "1   2     2784  2016-01-01 0:09:32      123.91             15   \n",
       "2   3     1619  2016-01-01 0:17:26      119.75             15   \n",
       "3   4     9725  2016-01-01 0:44:04      151.92             15   \n",
       "4   5     8892  2016-01-01 0:52:23      153.27             15   \n",
       "\n",
       "   discounts_applied payment_reject  \n",
       "0                NaN          False  \n",
       "1                NaN          False  \n",
       "2                NaN          False  \n",
       "3                NaN          False  \n",
       "4                NaN          False  "
      ]
     },
     "execution_count": 3,
     "metadata": {},
     "output_type": "execute_result"
    }
   ],
   "source": [
    "order.head()"
   ]
  },
  {
   "cell_type": "code",
   "execution_count": 4,
   "metadata": {
    "collapsed": false
   },
   "outputs": [
    {
     "data": {
      "text/html": [
       "<div>\n",
       "<table border=\"1\" class=\"dataframe\">\n",
       "  <thead>\n",
       "    <tr style=\"text-align: right;\">\n",
       "      <th></th>\n",
       "      <th>id</th>\n",
       "      <th>gender</th>\n",
       "      <th>age</th>\n",
       "      <th>country</th>\n",
       "      <th>days_on_site_in_2016</th>\n",
       "    </tr>\n",
       "  </thead>\n",
       "  <tbody>\n",
       "    <tr>\n",
       "      <th>0</th>\n",
       "      <td>1</td>\n",
       "      <td>M</td>\n",
       "      <td>21</td>\n",
       "      <td>US</td>\n",
       "      <td>1</td>\n",
       "    </tr>\n",
       "    <tr>\n",
       "      <th>1</th>\n",
       "      <td>2</td>\n",
       "      <td>F</td>\n",
       "      <td>46</td>\n",
       "      <td>US</td>\n",
       "      <td>10</td>\n",
       "    </tr>\n",
       "    <tr>\n",
       "      <th>2</th>\n",
       "      <td>3</td>\n",
       "      <td>NaN</td>\n",
       "      <td>26</td>\n",
       "      <td>US</td>\n",
       "      <td>4</td>\n",
       "    </tr>\n",
       "    <tr>\n",
       "      <th>3</th>\n",
       "      <td>4</td>\n",
       "      <td>NaN</td>\n",
       "      <td>54</td>\n",
       "      <td>US</td>\n",
       "      <td>7</td>\n",
       "    </tr>\n",
       "    <tr>\n",
       "      <th>4</th>\n",
       "      <td>5</td>\n",
       "      <td>F</td>\n",
       "      <td>34</td>\n",
       "      <td>US</td>\n",
       "      <td>38</td>\n",
       "    </tr>\n",
       "  </tbody>\n",
       "</table>\n",
       "</div>"
      ],
      "text/plain": [
       "   id gender  age country  days_on_site_in_2016\n",
       "0   1      M   21      US                     1\n",
       "1   2      F   46      US                    10\n",
       "2   3    NaN   26      US                     4\n",
       "3   4    NaN   54      US                     7\n",
       "4   5      F   34      US                    38"
      ]
     },
     "execution_count": 4,
     "metadata": {},
     "output_type": "execute_result"
    }
   ],
   "source": [
    "user.head()"
   ]
  },
  {
   "cell_type": "code",
   "execution_count": 3,
   "metadata": {
    "collapsed": true
   },
   "outputs": [],
   "source": [
    "# Merge files\n",
    "dataset = pd.merge(order,user, how = 'left', left_on = 'user_id', right_on = 'id')"
   ]
  },
  {
   "cell_type": "code",
   "execution_count": 4,
   "metadata": {
    "collapsed": false
   },
   "outputs": [],
   "source": [
    "dataset = dataset.drop('id_y',axis=1)"
   ]
  },
  {
   "cell_type": "code",
   "execution_count": 5,
   "metadata": {
    "collapsed": false
   },
   "outputs": [
    {
     "data": {
      "text/html": [
       "<div>\n",
       "<table border=\"1\" class=\"dataframe\">\n",
       "  <thead>\n",
       "    <tr style=\"text-align: right;\">\n",
       "      <th></th>\n",
       "      <th>id_x</th>\n",
       "      <th>user_id</th>\n",
       "      <th>order_time</th>\n",
       "      <th>item_total</th>\n",
       "      <th>shipping_cost</th>\n",
       "      <th>discounts_applied</th>\n",
       "      <th>payment_reject</th>\n",
       "      <th>gender</th>\n",
       "      <th>age</th>\n",
       "      <th>country</th>\n",
       "      <th>days_on_site_in_2016</th>\n",
       "    </tr>\n",
       "  </thead>\n",
       "  <tbody>\n",
       "    <tr>\n",
       "      <th>0</th>\n",
       "      <td>1</td>\n",
       "      <td>9852</td>\n",
       "      <td>2016-01-01 0:03:11</td>\n",
       "      <td>60.69</td>\n",
       "      <td>10</td>\n",
       "      <td>NaN</td>\n",
       "      <td>False</td>\n",
       "      <td>NaN</td>\n",
       "      <td>26</td>\n",
       "      <td>US</td>\n",
       "      <td>29</td>\n",
       "    </tr>\n",
       "    <tr>\n",
       "      <th>1</th>\n",
       "      <td>2</td>\n",
       "      <td>2784</td>\n",
       "      <td>2016-01-01 0:09:32</td>\n",
       "      <td>123.91</td>\n",
       "      <td>15</td>\n",
       "      <td>NaN</td>\n",
       "      <td>False</td>\n",
       "      <td>NaN</td>\n",
       "      <td>47</td>\n",
       "      <td>US</td>\n",
       "      <td>28</td>\n",
       "    </tr>\n",
       "    <tr>\n",
       "      <th>2</th>\n",
       "      <td>3</td>\n",
       "      <td>1619</td>\n",
       "      <td>2016-01-01 0:17:26</td>\n",
       "      <td>119.75</td>\n",
       "      <td>15</td>\n",
       "      <td>NaN</td>\n",
       "      <td>False</td>\n",
       "      <td>M</td>\n",
       "      <td>40</td>\n",
       "      <td>US</td>\n",
       "      <td>29</td>\n",
       "    </tr>\n",
       "    <tr>\n",
       "      <th>3</th>\n",
       "      <td>4</td>\n",
       "      <td>9725</td>\n",
       "      <td>2016-01-01 0:44:04</td>\n",
       "      <td>151.92</td>\n",
       "      <td>15</td>\n",
       "      <td>NaN</td>\n",
       "      <td>False</td>\n",
       "      <td>F</td>\n",
       "      <td>40</td>\n",
       "      <td>US</td>\n",
       "      <td>3</td>\n",
       "    </tr>\n",
       "    <tr>\n",
       "      <th>4</th>\n",
       "      <td>5</td>\n",
       "      <td>8892</td>\n",
       "      <td>2016-01-01 0:52:23</td>\n",
       "      <td>153.27</td>\n",
       "      <td>15</td>\n",
       "      <td>NaN</td>\n",
       "      <td>False</td>\n",
       "      <td>NaN</td>\n",
       "      <td>32</td>\n",
       "      <td>US</td>\n",
       "      <td>10</td>\n",
       "    </tr>\n",
       "  </tbody>\n",
       "</table>\n",
       "</div>"
      ],
      "text/plain": [
       "   id_x  user_id          order_time  item_total  shipping_cost  \\\n",
       "0     1     9852  2016-01-01 0:03:11       60.69             10   \n",
       "1     2     2784  2016-01-01 0:09:32      123.91             15   \n",
       "2     3     1619  2016-01-01 0:17:26      119.75             15   \n",
       "3     4     9725  2016-01-01 0:44:04      151.92             15   \n",
       "4     5     8892  2016-01-01 0:52:23      153.27             15   \n",
       "\n",
       "   discounts_applied payment_reject gender  age country  days_on_site_in_2016  \n",
       "0                NaN          False    NaN   26      US                    29  \n",
       "1                NaN          False    NaN   47      US                    28  \n",
       "2                NaN          False      M   40      US                    29  \n",
       "3                NaN          False      F   40      US                     3  \n",
       "4                NaN          False    NaN   32      US                    10  "
      ]
     },
     "execution_count": 5,
     "metadata": {},
     "output_type": "execute_result"
    }
   ],
   "source": [
    "# Check if merged correcly\n",
    "dataset.head()"
   ]
  },
  {
   "cell_type": "code",
   "execution_count": 6,
   "metadata": {
    "collapsed": false
   },
   "outputs": [
    {
     "data": {
      "text/plain": [
       "id_x                        0\n",
       "user_id                     0\n",
       "order_time                  0\n",
       "item_total                  0\n",
       "shipping_cost               0\n",
       "discounts_applied       47438\n",
       "payment_reject              0\n",
       "gender                  17386\n",
       "age                         0\n",
       "country                     0\n",
       "days_on_site_in_2016        0\n",
       "dtype: int64"
      ]
     },
     "execution_count": 6,
     "metadata": {},
     "output_type": "execute_result"
    }
   ],
   "source": [
    "# check column availability\n",
    "dataset.isnull().sum(axis = 0)\n",
    "# there are some missing genders, not all the orders have discount. no missings for other columns. data availability is good.   "
   ]
  },
  {
   "cell_type": "code",
   "execution_count": 7,
   "metadata": {
    "collapsed": false
   },
   "outputs": [
    {
     "name": "stdout",
     "output_type": "stream",
     "text": [
      "Empty DataFrame\n",
      "Columns: [id_x, user_id, order_time, item_total, shipping_cost, discounts_applied, payment_reject, gender, age, country, days_on_site_in_2016]\n",
      "Index: []\n"
     ]
    }
   ],
   "source": [
    "# check if there are duplicated orders\n",
    "dup = dataset[dataset.duplicated(['id_x'])]\n",
    "print(dup)\n",
    "# no dups"
   ]
  },
  {
   "cell_type": "code",
   "execution_count": 8,
   "metadata": {
    "collapsed": false
   },
   "outputs": [
    {
     "name": "stdout",
     "output_type": "stream",
     "text": [
      "<class 'pandas.core.frame.DataFrame'>\n",
      "Int64Index: 51738 entries, 0 to 51737\n",
      "Data columns (total 11 columns):\n",
      "id_x                    51738 non-null int64\n",
      "user_id                 51738 non-null int64\n",
      "order_time              51738 non-null object\n",
      "item_total              51738 non-null float64\n",
      "shipping_cost           51738 non-null int64\n",
      "discounts_applied       4300 non-null float64\n",
      "payment_reject          51738 non-null bool\n",
      "gender                  34352 non-null object\n",
      "age                     51738 non-null int64\n",
      "country                 51738 non-null object\n",
      "days_on_site_in_2016    51738 non-null int64\n",
      "dtypes: bool(1), float64(2), int64(5), object(3)\n",
      "memory usage: 4.4+ MB\n"
     ]
    }
   ],
   "source": [
    "# Understand column type\n",
    "dataset.info()"
   ]
  },
  {
   "cell_type": "code",
   "execution_count": 14,
   "metadata": {
    "collapsed": false
   },
   "outputs": [
    {
     "data": {
      "text/plain": [
       "(51738, 19)"
      ]
     },
     "execution_count": 14,
     "metadata": {},
     "output_type": "execute_result"
    }
   ],
   "source": [
    "# Understand data size\n",
    "dataset.shape"
   ]
  },
  {
   "cell_type": "code",
   "execution_count": 8,
   "metadata": {
    "collapsed": false
   },
   "outputs": [
    {
     "data": {
      "text/html": [
       "<div>\n",
       "<table border=\"1\" class=\"dataframe\">\n",
       "  <thead>\n",
       "    <tr style=\"text-align: right;\">\n",
       "      <th></th>\n",
       "      <th>id_x</th>\n",
       "      <th>user_id</th>\n",
       "      <th>order_time</th>\n",
       "      <th>item_total</th>\n",
       "      <th>shipping_cost</th>\n",
       "      <th>discounts_applied</th>\n",
       "      <th>payment_reject</th>\n",
       "      <th>gender</th>\n",
       "      <th>age</th>\n",
       "      <th>country</th>\n",
       "      <th>days_on_site_in_2016</th>\n",
       "      <th>order_ymd</th>\n",
       "      <th>order_hms</th>\n",
       "    </tr>\n",
       "  </thead>\n",
       "  <tbody>\n",
       "    <tr>\n",
       "      <th>0</th>\n",
       "      <td>1</td>\n",
       "      <td>9852</td>\n",
       "      <td>2016-01-01 0:03:11</td>\n",
       "      <td>60.69</td>\n",
       "      <td>10</td>\n",
       "      <td>NaN</td>\n",
       "      <td>False</td>\n",
       "      <td>NaN</td>\n",
       "      <td>26</td>\n",
       "      <td>US</td>\n",
       "      <td>29</td>\n",
       "      <td>2016-01-01</td>\n",
       "      <td>0:03:11</td>\n",
       "    </tr>\n",
       "    <tr>\n",
       "      <th>1</th>\n",
       "      <td>2</td>\n",
       "      <td>2784</td>\n",
       "      <td>2016-01-01 0:09:32</td>\n",
       "      <td>123.91</td>\n",
       "      <td>15</td>\n",
       "      <td>NaN</td>\n",
       "      <td>False</td>\n",
       "      <td>NaN</td>\n",
       "      <td>47</td>\n",
       "      <td>US</td>\n",
       "      <td>28</td>\n",
       "      <td>2016-01-01</td>\n",
       "      <td>0:09:32</td>\n",
       "    </tr>\n",
       "    <tr>\n",
       "      <th>2</th>\n",
       "      <td>3</td>\n",
       "      <td>1619</td>\n",
       "      <td>2016-01-01 0:17:26</td>\n",
       "      <td>119.75</td>\n",
       "      <td>15</td>\n",
       "      <td>NaN</td>\n",
       "      <td>False</td>\n",
       "      <td>M</td>\n",
       "      <td>40</td>\n",
       "      <td>US</td>\n",
       "      <td>29</td>\n",
       "      <td>2016-01-01</td>\n",
       "      <td>0:17:26</td>\n",
       "    </tr>\n",
       "    <tr>\n",
       "      <th>3</th>\n",
       "      <td>4</td>\n",
       "      <td>9725</td>\n",
       "      <td>2016-01-01 0:44:04</td>\n",
       "      <td>151.92</td>\n",
       "      <td>15</td>\n",
       "      <td>NaN</td>\n",
       "      <td>False</td>\n",
       "      <td>F</td>\n",
       "      <td>40</td>\n",
       "      <td>US</td>\n",
       "      <td>3</td>\n",
       "      <td>2016-01-01</td>\n",
       "      <td>0:44:04</td>\n",
       "    </tr>\n",
       "    <tr>\n",
       "      <th>4</th>\n",
       "      <td>5</td>\n",
       "      <td>8892</td>\n",
       "      <td>2016-01-01 0:52:23</td>\n",
       "      <td>153.27</td>\n",
       "      <td>15</td>\n",
       "      <td>NaN</td>\n",
       "      <td>False</td>\n",
       "      <td>NaN</td>\n",
       "      <td>32</td>\n",
       "      <td>US</td>\n",
       "      <td>10</td>\n",
       "      <td>2016-01-01</td>\n",
       "      <td>0:52:23</td>\n",
       "    </tr>\n",
       "  </tbody>\n",
       "</table>\n",
       "</div>"
      ],
      "text/plain": [
       "   id_x  user_id          order_time  item_total  shipping_cost  \\\n",
       "0     1     9852  2016-01-01 0:03:11       60.69             10   \n",
       "1     2     2784  2016-01-01 0:09:32      123.91             15   \n",
       "2     3     1619  2016-01-01 0:17:26      119.75             15   \n",
       "3     4     9725  2016-01-01 0:44:04      151.92             15   \n",
       "4     5     8892  2016-01-01 0:52:23      153.27             15   \n",
       "\n",
       "   discounts_applied payment_reject gender  age country  days_on_site_in_2016  \\\n",
       "0                NaN          False    NaN   26      US                    29   \n",
       "1                NaN          False    NaN   47      US                    28   \n",
       "2                NaN          False      M   40      US                    29   \n",
       "3                NaN          False      F   40      US                     3   \n",
       "4                NaN          False    NaN   32      US                    10   \n",
       "\n",
       "    order_ymd order_hms  \n",
       "0  2016-01-01   0:03:11  \n",
       "1  2016-01-01   0:09:32  \n",
       "2  2016-01-01   0:17:26  \n",
       "3  2016-01-01   0:44:04  \n",
       "4  2016-01-01   0:52:23  "
      ]
     },
     "execution_count": 8,
     "metadata": {},
     "output_type": "execute_result"
    }
   ],
   "source": [
    "# Split order time to Year-Month-Day column and Hour-Minute-Second column\n",
    "dataset[['order_ymd','order_hms']] = dataset.order_time.str.split(\" \",expand=True)\n",
    "dataset.head()"
   ]
  },
  {
   "cell_type": "code",
   "execution_count": 10,
   "metadata": {
    "collapsed": false
   },
   "outputs": [
    {
     "data": {
      "text/html": [
       "<div>\n",
       "<table border=\"1\" class=\"dataframe\">\n",
       "  <thead>\n",
       "    <tr style=\"text-align: right;\">\n",
       "      <th></th>\n",
       "      <th>id_x</th>\n",
       "      <th>user_id</th>\n",
       "      <th>order_time</th>\n",
       "      <th>item_total</th>\n",
       "      <th>shipping_cost</th>\n",
       "      <th>discounts_applied</th>\n",
       "      <th>payment_reject</th>\n",
       "      <th>gender</th>\n",
       "      <th>age</th>\n",
       "      <th>country</th>\n",
       "      <th>days_on_site_in_2016</th>\n",
       "      <th>order_ymd</th>\n",
       "      <th>order_hms</th>\n",
       "      <th>order_year</th>\n",
       "      <th>order_month</th>\n",
       "      <th>order_day</th>\n",
       "      <th>order_hour</th>\n",
       "      <th>order_minute</th>\n",
       "      <th>order_second</th>\n",
       "    </tr>\n",
       "  </thead>\n",
       "  <tbody>\n",
       "    <tr>\n",
       "      <th>0</th>\n",
       "      <td>1</td>\n",
       "      <td>9852</td>\n",
       "      <td>2016-01-01 0:03:11</td>\n",
       "      <td>60.69</td>\n",
       "      <td>10</td>\n",
       "      <td>NaN</td>\n",
       "      <td>False</td>\n",
       "      <td>NaN</td>\n",
       "      <td>26</td>\n",
       "      <td>US</td>\n",
       "      <td>29</td>\n",
       "      <td>2016-01-01</td>\n",
       "      <td>0:03:11</td>\n",
       "      <td>2016</td>\n",
       "      <td>01</td>\n",
       "      <td>01</td>\n",
       "      <td>0</td>\n",
       "      <td>03</td>\n",
       "      <td>11</td>\n",
       "    </tr>\n",
       "    <tr>\n",
       "      <th>1</th>\n",
       "      <td>2</td>\n",
       "      <td>2784</td>\n",
       "      <td>2016-01-01 0:09:32</td>\n",
       "      <td>123.91</td>\n",
       "      <td>15</td>\n",
       "      <td>NaN</td>\n",
       "      <td>False</td>\n",
       "      <td>NaN</td>\n",
       "      <td>47</td>\n",
       "      <td>US</td>\n",
       "      <td>28</td>\n",
       "      <td>2016-01-01</td>\n",
       "      <td>0:09:32</td>\n",
       "      <td>2016</td>\n",
       "      <td>01</td>\n",
       "      <td>01</td>\n",
       "      <td>0</td>\n",
       "      <td>09</td>\n",
       "      <td>32</td>\n",
       "    </tr>\n",
       "    <tr>\n",
       "      <th>2</th>\n",
       "      <td>3</td>\n",
       "      <td>1619</td>\n",
       "      <td>2016-01-01 0:17:26</td>\n",
       "      <td>119.75</td>\n",
       "      <td>15</td>\n",
       "      <td>NaN</td>\n",
       "      <td>False</td>\n",
       "      <td>M</td>\n",
       "      <td>40</td>\n",
       "      <td>US</td>\n",
       "      <td>29</td>\n",
       "      <td>2016-01-01</td>\n",
       "      <td>0:17:26</td>\n",
       "      <td>2016</td>\n",
       "      <td>01</td>\n",
       "      <td>01</td>\n",
       "      <td>0</td>\n",
       "      <td>17</td>\n",
       "      <td>26</td>\n",
       "    </tr>\n",
       "    <tr>\n",
       "      <th>3</th>\n",
       "      <td>4</td>\n",
       "      <td>9725</td>\n",
       "      <td>2016-01-01 0:44:04</td>\n",
       "      <td>151.92</td>\n",
       "      <td>15</td>\n",
       "      <td>NaN</td>\n",
       "      <td>False</td>\n",
       "      <td>F</td>\n",
       "      <td>40</td>\n",
       "      <td>US</td>\n",
       "      <td>3</td>\n",
       "      <td>2016-01-01</td>\n",
       "      <td>0:44:04</td>\n",
       "      <td>2016</td>\n",
       "      <td>01</td>\n",
       "      <td>01</td>\n",
       "      <td>0</td>\n",
       "      <td>44</td>\n",
       "      <td>04</td>\n",
       "    </tr>\n",
       "    <tr>\n",
       "      <th>4</th>\n",
       "      <td>5</td>\n",
       "      <td>8892</td>\n",
       "      <td>2016-01-01 0:52:23</td>\n",
       "      <td>153.27</td>\n",
       "      <td>15</td>\n",
       "      <td>NaN</td>\n",
       "      <td>False</td>\n",
       "      <td>NaN</td>\n",
       "      <td>32</td>\n",
       "      <td>US</td>\n",
       "      <td>10</td>\n",
       "      <td>2016-01-01</td>\n",
       "      <td>0:52:23</td>\n",
       "      <td>2016</td>\n",
       "      <td>01</td>\n",
       "      <td>01</td>\n",
       "      <td>0</td>\n",
       "      <td>52</td>\n",
       "      <td>23</td>\n",
       "    </tr>\n",
       "  </tbody>\n",
       "</table>\n",
       "</div>"
      ],
      "text/plain": [
       "   id_x  user_id          order_time  item_total  shipping_cost  \\\n",
       "0     1     9852  2016-01-01 0:03:11       60.69             10   \n",
       "1     2     2784  2016-01-01 0:09:32      123.91             15   \n",
       "2     3     1619  2016-01-01 0:17:26      119.75             15   \n",
       "3     4     9725  2016-01-01 0:44:04      151.92             15   \n",
       "4     5     8892  2016-01-01 0:52:23      153.27             15   \n",
       "\n",
       "   discounts_applied payment_reject gender  age country  days_on_site_in_2016  \\\n",
       "0                NaN          False    NaN   26      US                    29   \n",
       "1                NaN          False    NaN   47      US                    28   \n",
       "2                NaN          False      M   40      US                    29   \n",
       "3                NaN          False      F   40      US                     3   \n",
       "4                NaN          False    NaN   32      US                    10   \n",
       "\n",
       "    order_ymd order_hms order_year order_month order_day order_hour  \\\n",
       "0  2016-01-01   0:03:11       2016          01        01          0   \n",
       "1  2016-01-01   0:09:32       2016          01        01          0   \n",
       "2  2016-01-01   0:17:26       2016          01        01          0   \n",
       "3  2016-01-01   0:44:04       2016          01        01          0   \n",
       "4  2016-01-01   0:52:23       2016          01        01          0   \n",
       "\n",
       "  order_minute order_second  \n",
       "0           03           11  \n",
       "1           09           32  \n",
       "2           17           26  \n",
       "3           44           04  \n",
       "4           52           23  "
      ]
     },
     "execution_count": 10,
     "metadata": {},
     "output_type": "execute_result"
    }
   ],
   "source": [
    "# Split more\n",
    "dataset[['order_year','order_month','order_day']] = dataset.order_ymd.str.split(\"-\",expand=True)\n",
    "dataset[['order_hour','order_minute','order_second']] = dataset.order_hms.str.split(\":\",expand=True)\n",
    "dataset.head()"
   ]
  },
  {
   "cell_type": "code",
   "execution_count": 207,
   "metadata": {
    "collapsed": false
   },
   "outputs": [],
   "source": [
    "# Failure code for working with datetime. Decided to parse object.\n",
    "\n",
    "#pd.to_datetime(dataset['order_time'],format = '%m/%d/%y %H:%M:%S')\n",
    "#dataset['order_time'] =dataset['order_time'].astype(str)\n",
    "#dataset['order_time'] = pd.to_datetime(dataset['order_time'].astype(str))\n",
    "#dataset['order_date_parsed'] = pd.to_datetime(dataset['order_time'].str,errors='coerce',format = \"%d-%b-%y %H:%M:%S\") #unit='s' '%m/%d/%y %H:%M:%S'\n",
    "#dataset['order_time'] = dt.strptime(dataset['order_time'],'%m/%d/%y %H:%M:%S')\n",
    "#pd.Timestamp.month(dataset['order_time'])\n",
    "#mydate = datetime.datetime.now()\n",
    "#mydate.strftime(\"%B\") \n",
    "#mydate.strftime(\"%b\")\n",
    "#dataset.order_date_parsed.head()"
   ]
  },
  {
   "cell_type": "code",
   "execution_count": 11,
   "metadata": {
    "collapsed": false
   },
   "outputs": [
    {
     "data": {
      "text/plain": [
       "dtype('int32')"
      ]
     },
     "execution_count": 11,
     "metadata": {},
     "output_type": "execute_result"
    }
   ],
   "source": [
    "dataset['order_hour'] = dataset['order_hour'].astype(str).astype(int)\n",
    "dataset['order_hour'].dtypes"
   ]
  },
  {
   "cell_type": "code",
   "execution_count": 8,
   "metadata": {
    "collapsed": false
   },
   "outputs": [],
   "source": [
    "#print(sns.__version__)  # dir(sns)"
   ]
  },
  {
   "cell_type": "code",
   "execution_count": 233,
   "metadata": {
    "collapsed": false
   },
   "outputs": [
    {
     "data": {
      "image/png": "[encoded data removed]",
      "text/plain": [
       "<matplotlib.figure.Figure at 0x18cace25780>"
      ]
     },
     "metadata": {},
     "output_type": "display_data"
    }
   ],
   "source": [
    "# Item total of orders are normally distributed. Most orders are around $125.\n",
    "plt.hist(dataset['item_total'], bins=10, normed=True, alpha=0.5,\n",
    "         histtype='stepfilled', color='steelblue');"
   ]
  },
  {
   "cell_type": "code",
   "execution_count": 14,
   "metadata": {
    "collapsed": false
   },
   "outputs": [
    {
     "data": {
      "image/png": "[encoded data removed]",
      "text/plain": [
       "<matplotlib.figure.Figure at 0x1ef2a94aba8>"
      ]
     },
     "metadata": {},
     "output_type": "display_data"
    }
   ],
   "source": [
    "plt.hist(dataset['age'], bins=10, alpha=0.5,\n",
    "         histtype='stepfilled', color='steelblue');"
   ]
  },
  {
   "cell_type": "code",
   "execution_count": 63,
   "metadata": {
    "collapsed": false
   },
   "outputs": [
    {
     "data": {
      "text/html": [
       "<div>\n",
       "<table border=\"1\" class=\"dataframe\">\n",
       "  <thead>\n",
       "    <tr style=\"text-align: right;\">\n",
       "      <th></th>\n",
       "      <th>item_total</th>\n",
       "      <th>days_on_site_in_2016</th>\n",
       "    </tr>\n",
       "    <tr>\n",
       "      <th>user_id</th>\n",
       "      <th></th>\n",
       "      <th></th>\n",
       "    </tr>\n",
       "  </thead>\n",
       "  <tbody>\n",
       "    <tr>\n",
       "      <th>2</th>\n",
       "      <td>1169.40</td>\n",
       "      <td>80</td>\n",
       "    </tr>\n",
       "    <tr>\n",
       "      <th>3</th>\n",
       "      <td>244.73</td>\n",
       "      <td>8</td>\n",
       "    </tr>\n",
       "    <tr>\n",
       "      <th>4</th>\n",
       "      <td>336.20</td>\n",
       "      <td>14</td>\n",
       "    </tr>\n",
       "    <tr>\n",
       "      <th>5</th>\n",
       "      <td>1887.80</td>\n",
       "      <td>608</td>\n",
       "    </tr>\n",
       "    <tr>\n",
       "      <th>6</th>\n",
       "      <td>96.27</td>\n",
       "      <td>2</td>\n",
       "    </tr>\n",
       "  </tbody>\n",
       "</table>\n",
       "</div>"
      ],
      "text/plain": [
       "         item_total  days_on_site_in_2016\n",
       "user_id                                  \n",
       "2           1169.40                    80\n",
       "3            244.73                     8\n",
       "4            336.20                    14\n",
       "5           1887.80                   608\n",
       "6             96.27                     2"
      ]
     },
     "execution_count": 63,
     "metadata": {},
     "output_type": "execute_result"
    }
   ],
   "source": [
    "# Spend and days on site correlated? Create a table with aggregated item total and days on site first for later use. \n",
    "customer_agg = dataset.groupby(['user_id']).agg({'item_total':'sum','days_on_site_in_2016':'sum'})\n",
    "customer_agg.head()"
   ]
  },
  {
   "cell_type": "code",
   "execution_count": 46,
   "metadata": {
    "collapsed": false
   },
   "outputs": [
    {
     "data": {
      "image/png": "[encoded data removed]",
      "text/plain": [
       "<matplotlib.figure.Figure at 0x28ff346a6a0>"
      ]
     },
     "metadata": {},
     "output_type": "display_data"
    }
   ],
   "source": [
    "# From scatter plot, we can tell they are strongly postively correlated.  \n",
    "plt.plot(customer_agg['days_on_site_in_2016'], customer_agg['item_total'],  'o', color='black');"
   ]
  },
  {
   "cell_type": "code",
   "execution_count": 47,
   "metadata": {
    "collapsed": false
   },
   "outputs": [
    {
     "data": {
      "text/plain": [
       "SpearmanrResult(correlation=0.95615234592218723, pvalue=0.0)"
      ]
     },
     "execution_count": 47,
     "metadata": {},
     "output_type": "execute_result"
    }
   ],
   "source": [
    "# run spearman's correlation to find out two numeric variable's correlation\n",
    "spearmanr(customer_agg['days_on_site_in_2016'], customer_agg['item_total'])"
   ]
  },
  {
   "cell_type": "code",
   "execution_count": 53,
   "metadata": {
    "collapsed": false
   },
   "outputs": [
    {
     "data": {
      "text/html": [
       "<div>\n",
       "<table border=\"1\" class=\"dataframe\">\n",
       "  <thead>\n",
       "    <tr style=\"text-align: right;\">\n",
       "      <th></th>\n",
       "      <th>item_total</th>\n",
       "      <th>days_on_site_in_2016</th>\n",
       "      <th>item_total_rank</th>\n",
       "      <th>days_on_site_rank</th>\n",
       "      <th>diff</th>\n",
       "    </tr>\n",
       "    <tr>\n",
       "      <th>user_id</th>\n",
       "      <th></th>\n",
       "      <th></th>\n",
       "      <th></th>\n",
       "      <th></th>\n",
       "      <th></th>\n",
       "    </tr>\n",
       "  </thead>\n",
       "  <tbody>\n",
       "    <tr>\n",
       "      <th>2261</th>\n",
       "      <td>589.19</td>\n",
       "      <td>9</td>\n",
       "      <td>0.553812</td>\n",
       "      <td>0.269556</td>\n",
       "      <td>-0.284257</td>\n",
       "    </tr>\n",
       "    <tr>\n",
       "      <th>6497</th>\n",
       "      <td>556.54</td>\n",
       "      <td>9</td>\n",
       "      <td>0.530499</td>\n",
       "      <td>0.269556</td>\n",
       "      <td>-0.260943</td>\n",
       "    </tr>\n",
       "    <tr>\n",
       "      <th>2156</th>\n",
       "      <td>408.28</td>\n",
       "      <td>4</td>\n",
       "      <td>0.416127</td>\n",
       "      <td>0.156061</td>\n",
       "      <td>-0.260066</td>\n",
       "    </tr>\n",
       "  </tbody>\n",
       "</table>\n",
       "</div>"
      ],
      "text/plain": [
       "         item_total  days_on_site_in_2016  item_total_rank  days_on_site_rank  \\\n",
       "user_id                                                                         \n",
       "2261         589.19                     9         0.553812           0.269556   \n",
       "6497         556.54                     9         0.530499           0.269556   \n",
       "2156         408.28                     4         0.416127           0.156061   \n",
       "\n",
       "             diff  \n",
       "user_id            \n",
       "2261    -0.284257  \n",
       "6497    -0.260943  \n",
       "2156    -0.260066  "
      ]
     },
     "execution_count": 53,
     "metadata": {},
     "output_type": "execute_result"
    }
   ],
   "source": [
    "customer_agg['item_total_rank'] = customer_agg['item_total'].rank(pct = True)\n",
    "customer_agg['days_on_site_rank'] = customer_agg['days_on_site_in_2016'].rank(pct = True)\n",
    "customer_agg['diff'] = customer_agg['days_on_site_rank'] - customer_agg['item_total_rank']\n",
    "\n",
    "# Users who spend short time on site but spent relatively more\n",
    "customer_agg.sort_values(by=['diff'],ascending=True).head(3)"
   ]
  },
  {
   "cell_type": "code",
   "execution_count": 54,
   "metadata": {
    "collapsed": false
   },
   "outputs": [
    {
     "data": {
      "text/html": [
       "<div>\n",
       "<table border=\"1\" class=\"dataframe\">\n",
       "  <thead>\n",
       "    <tr style=\"text-align: right;\">\n",
       "      <th></th>\n",
       "      <th>item_total</th>\n",
       "      <th>days_on_site_in_2016</th>\n",
       "      <th>item_total_rank</th>\n",
       "      <th>days_on_site_rank</th>\n",
       "      <th>diff</th>\n",
       "    </tr>\n",
       "    <tr>\n",
       "      <th>user_id</th>\n",
       "      <th></th>\n",
       "      <th></th>\n",
       "      <th></th>\n",
       "      <th></th>\n",
       "      <th></th>\n",
       "    </tr>\n",
       "  </thead>\n",
       "  <tbody>\n",
       "    <tr>\n",
       "      <th>9086</th>\n",
       "      <td>304.35</td>\n",
       "      <td>80</td>\n",
       "      <td>0.315195</td>\n",
       "      <td>0.679210</td>\n",
       "      <td>0.364015</td>\n",
       "    </tr>\n",
       "    <tr>\n",
       "      <th>1261</th>\n",
       "      <td>251.00</td>\n",
       "      <td>52</td>\n",
       "      <td>0.252112</td>\n",
       "      <td>0.592814</td>\n",
       "      <td>0.340702</td>\n",
       "    </tr>\n",
       "    <tr>\n",
       "      <th>5993</th>\n",
       "      <td>251.39</td>\n",
       "      <td>52</td>\n",
       "      <td>0.252441</td>\n",
       "      <td>0.592814</td>\n",
       "      <td>0.340373</td>\n",
       "    </tr>\n",
       "  </tbody>\n",
       "</table>\n",
       "</div>"
      ],
      "text/plain": [
       "         item_total  days_on_site_in_2016  item_total_rank  days_on_site_rank  \\\n",
       "user_id                                                                         \n",
       "9086         304.35                    80         0.315195           0.679210   \n",
       "1261         251.00                    52         0.252112           0.592814   \n",
       "5993         251.39                    52         0.252441           0.592814   \n",
       "\n",
       "             diff  \n",
       "user_id            \n",
       "9086     0.364015  \n",
       "1261     0.340702  \n",
       "5993     0.340373  "
      ]
     },
     "execution_count": 54,
     "metadata": {},
     "output_type": "execute_result"
    }
   ],
   "source": [
    "# Users who spend long time on site but spent relatively less\n",
    "customer_agg.sort_values(by=['diff'],ascending=False).head(3)"
   ]
  },
  {
   "cell_type": "code",
   "execution_count": 32,
   "metadata": {
    "collapsed": false
   },
   "outputs": [
    {
     "data": {
      "text/html": [
       "<div>\n",
       "<table border=\"1\" class=\"dataframe\">\n",
       "  <thead>\n",
       "    <tr style=\"text-align: right;\">\n",
       "      <th>shipping_cost</th>\n",
       "      <th>10</th>\n",
       "      <th>15</th>\n",
       "      <th>20</th>\n",
       "      <th>25</th>\n",
       "    </tr>\n",
       "    <tr>\n",
       "      <th>country</th>\n",
       "      <th></th>\n",
       "      <th></th>\n",
       "      <th></th>\n",
       "      <th></th>\n",
       "    </tr>\n",
       "  </thead>\n",
       "  <tbody>\n",
       "    <tr>\n",
       "      <th>CA</th>\n",
       "      <td>0</td>\n",
       "      <td>0</td>\n",
       "      <td>1162</td>\n",
       "      <td>3587</td>\n",
       "    </tr>\n",
       "    <tr>\n",
       "      <th>US</th>\n",
       "      <td>18739</td>\n",
       "      <td>28250</td>\n",
       "      <td>0</td>\n",
       "      <td>0</td>\n",
       "    </tr>\n",
       "  </tbody>\n",
       "</table>\n",
       "</div>"
      ],
      "text/plain": [
       "shipping_cost     10     15    20    25\n",
       "country                                \n",
       "CA                 0      0  1162  3587\n",
       "US             18739  28250     0     0"
      ]
     },
     "execution_count": 32,
     "metadata": {},
     "output_type": "execute_result"
    }
   ],
   "source": [
    "# Use Contingency Table to study the correlation between country and shipping cost\n",
    "pd.crosstab(dataset['country'],dataset['shipping_cost'])\n",
    "\n",
    "# US always have shipping cost of either 10 or 15. CAN always have shipping cost of either 20 or 25."
   ]
  },
  {
   "cell_type": "code",
   "execution_count": 33,
   "metadata": {
    "collapsed": false
   },
   "outputs": [
    {
     "data": {
      "text/plain": [
       "<matplotlib.axes._subplots.AxesSubplot at 0x28ff30b7a58>"
      ]
     },
     "execution_count": 33,
     "metadata": {},
     "output_type": "execute_result"
    },
    {
     "data": {
      "image/png": "[encoded data removed]",
      "text/plain": [
       "<matplotlib.figure.Figure at 0x28ff308ac18>"
      ]
     },
     "metadata": {},
     "output_type": "display_data"
    }
   ],
   "source": [
    "# from boxplot we can see for both country, once passing a certain amount somewhere between 100 and 125, shipping cost increase.\n",
    "sns.boxplot(x='shipping_cost',y='item_total',hue=\"country\" ,data=dataset)"
   ]
  },
  {
   "cell_type": "code",
   "execution_count": 34,
   "metadata": {
    "collapsed": false
   },
   "outputs": [
    {
     "name": "stdout",
     "output_type": "stream",
     "text": [
      "              item_total        \n",
      "                     min     max\n",
      "shipping_cost                   \n",
      "10                 43.04  114.99\n",
      "15                115.00  207.94\n",
      "20                 58.22  114.99\n",
      "25                115.02  222.96\n"
     ]
    }
   ],
   "source": [
    "# What is that breaking amount? $115\n",
    "ship_agg = dataset.groupby(['shipping_cost']).agg({'item_total':['min','max'] })\n",
    "print(ship_agg)"
   ]
  },
  {
   "cell_type": "code",
   "execution_count": 98,
   "metadata": {
    "collapsed": false
   },
   "outputs": [
    {
     "data": {
      "text/html": [
       "<div>\n",
       "<table border=\"1\" class=\"dataframe\">\n",
       "  <thead>\n",
       "    <tr>\n",
       "      <th></th>\n",
       "      <th>id_x</th>\n",
       "    </tr>\n",
       "    <tr>\n",
       "      <th></th>\n",
       "      <th>count</th>\n",
       "    </tr>\n",
       "    <tr>\n",
       "      <th>payment_reject</th>\n",
       "      <th></th>\n",
       "    </tr>\n",
       "  </thead>\n",
       "  <tbody>\n",
       "    <tr>\n",
       "      <th>False</th>\n",
       "      <td>0.99</td>\n",
       "    </tr>\n",
       "    <tr>\n",
       "      <th>True</th>\n",
       "      <td>0.01</td>\n",
       "    </tr>\n",
       "  </tbody>\n",
       "</table>\n",
       "</div>"
      ],
      "text/plain": [
       "                id_x\n",
       "               count\n",
       "payment_reject      \n",
       "False           0.99\n",
       "True            0.01"
      ]
     },
     "execution_count": 98,
     "metadata": {},
     "output_type": "execute_result"
    }
   ],
   "source": [
    "# Calculatee rejecting rate\n",
    "reject_agg = dataset.groupby(['payment_reject']).agg({'id_x':['count'] })\n",
    "reject_agg.apply(lambda x: x/x.sum()).round(3)"
   ]
  },
  {
   "cell_type": "code",
   "execution_count": 82,
   "metadata": {
    "collapsed": false
   },
   "outputs": [
    {
     "name": "stdout",
     "output_type": "stream",
     "text": [
      "Discounts Applied Orders Count:  4300\n",
      "Total Orders Count:  51738\n",
      "Percentage of Deals with Discounts:  0.0831\n"
     ]
    }
   ],
   "source": [
    "# Calculate percentage of deals with discount\n",
    "print('Discounts Applied Orders Count: ', len(dataset[dataset['discounts_applied'] > 0]))\n",
    "print('Total Orders Count: ' , dataset['id_x'].count())\n",
    "print('Percentage of Deals with Discounts: ' , round(len(dataset[dataset['discounts_applied'] > 0]) / dataset['id_x'].count(),4 ))"
   ]
  },
  {
   "cell_type": "code",
   "execution_count": 107,
   "metadata": {
    "collapsed": false
   },
   "outputs": [],
   "source": [
    "# Make bin out of age\n",
    "dataset['age_bin'] = pd.qcut(dataset['age'], q=8, precision=0)"
   ]
  },
  {
   "cell_type": "code",
   "execution_count": 71,
   "metadata": {
    "collapsed": false
   },
   "outputs": [
    {
     "name": "stdout",
     "output_type": "stream",
     "text": [
      "          id_x item_total       \n",
      "         count        sum   mean\n",
      "age_bin                         \n",
      "[21, 25]  7489   727933.0   97.0\n",
      "(25, 29]  6464   691124.0  107.0\n",
      "(29, 33]  6181   708542.0  115.0\n",
      "(33, 37]  5972   731993.0  123.0\n",
      "(37, 41]  6247   816630.0  131.0\n",
      "(41, 46]  7546  1050209.0  139.0\n",
      "(46, 50]  5976   889457.0  149.0\n",
      "(50, 54]  5863   923733.0  158.0\n"
     ]
    }
   ],
   "source": [
    "age_agg = dataset.groupby(['age_bin']).agg({'id_x':'count',\n",
    "                                        'item_total':['sum','mean']         \n",
    "                                }).round()\n",
    "print(age_agg)\n",
    "\n",
    "# Overall not too much difference among age groups in count. (41, 46] contributes the most sales. Mean increase when age increase. "
   ]
  },
  {
   "cell_type": "code",
   "execution_count": 17,
   "metadata": {
    "collapsed": false
   },
   "outputs": [
    {
     "name": "stdout",
     "output_type": "stream",
     "text": [
      "             id_x item_total       \n",
      "            count        sum   mean\n",
      "order_month                        \n",
      "01           4319   546138.0  126.0\n",
      "02           4113   520723.0  127.0\n",
      "03           4414   558491.0  127.0\n",
      "04           4144   521513.0  126.0\n",
      "05           4400   555593.0  126.0\n",
      "06           4226   532287.0  126.0\n",
      "07           4304   544696.0  127.0\n",
      "08           4393   556565.0  127.0\n",
      "09           4333   547812.0  126.0\n",
      "10           4408   556437.0  126.0\n",
      "11           4278   544586.0  127.0\n",
      "12           4406   554779.0  126.0\n"
     ]
    }
   ],
   "source": [
    "# No seasonality is found. Second half of the year item total remain high while first half is slightly more unstable\n",
    "month_agg = dataset.groupby(['order_month']).agg({'id_x':'count',\n",
    "                                           'item_total':['sum','mean']         \n",
    "                                }).round()\n",
    "print(month_agg)"
   ]
  },
  {
   "cell_type": "code",
   "execution_count": 22,
   "metadata": {
    "collapsed": false
   },
   "outputs": [
    {
     "data": {
      "text/plain": [
       "(300000, 560379.08850000007)"
      ]
     },
     "execution_count": 22,
     "metadata": {},
     "output_type": "execute_result"
    },
    {
     "data": {
      "image/png": "[encoded data removed]",
      "text/plain": [
       "<matplotlib.figure.Figure at 0x2380bc179e8>"
      ]
     },
     "metadata": {},
     "output_type": "display_data"
    }
   ],
   "source": [
    "ax1 = dataset.groupby('order_month')['item_total'].sum().plot(kind='line')\n",
    "ax1.set_ylim(ymin=300000)"
   ]
  },
  {
   "cell_type": "code",
   "execution_count": 43,
   "metadata": {
    "collapsed": false
   },
   "outputs": [
    {
     "data": {
      "text/plain": [
       "<matplotlib.axes._subplots.AxesSubplot at 0x2380bcab518>"
      ]
     },
     "execution_count": 43,
     "metadata": {},
     "output_type": "execute_result"
    },
    {
     "data": {
      "image/png": "[encoded data removed]",
      "text/plain": [
       "<matplotlib.figure.Figure at 0x2380bc92e80>"
      ]
     },
     "metadata": {},
     "output_type": "display_data"
    }
   ],
   "source": [
    "# Order amount doesn't change much over days\n",
    "dataset.groupby('order_day')['item_total'].sum().plot(kind='line')"
   ]
  },
  {
   "cell_type": "code",
   "execution_count": 62,
   "metadata": {
    "collapsed": false
   },
   "outputs": [
    {
     "data": {
      "text/plain": [
       "(240000, 297163.89150000014)"
      ]
     },
     "execution_count": 62,
     "metadata": {},
     "output_type": "execute_result"
    },
    {
     "data": {
      "image/png": "[encoded data removed]",
      "text/plain": [
       "<matplotlib.figure.Figure at 0x2380c721940>"
      ]
     },
     "metadata": {},
     "output_type": "display_data"
    }
   ],
   "source": [
    "ax3 = dataset.groupby('order_hour')['item_total'].sum().plot(kind='bar')\n",
    "ax3.set_ylim(ymin=240000)\n",
    "# Evening time has slighly more sales but no obvious peak hour. "
   ]
  },
  {
   "cell_type": "code",
   "execution_count": 108,
   "metadata": {
    "collapsed": false
   },
   "outputs": [
    {
     "name": "stdout",
     "output_type": "stream",
     "text": [
      "  country gender   id_x item_total       \n",
      "                  count        sum   mean\n",
      "0      CA      F   1610   231167.0  144.0\n",
      "1      CA      M   1571   221650.0  141.0\n",
      "2      US      F  15612  1941382.0  124.0\n",
      "3      US      M  15559  1946571.0  125.0\n",
      "\n",
      "\n",
      "        item_total\n",
      "               sum\n",
      "country           \n",
      "CA        0.102679\n",
      "US        0.897321\n",
      "\n",
      "\n",
      "                  user_id\n",
      "                    count\n",
      "age_bin  gender          \n",
      "[21, 25] F       0.075803\n",
      "         M       0.068351\n",
      "(25, 29] F       0.064130\n",
      "         M       0.060753\n",
      "(29, 33] F       0.053563\n",
      "         M       0.065469\n",
      "(33, 37] F       0.057027\n",
      "         M       0.057901\n",
      "(37, 41] F       0.064683\n",
      "         M       0.061801\n",
      "(41, 46] F       0.072019\n",
      "         M       0.070360\n",
      "(46, 50] F       0.053185\n",
      "         M       0.060462\n",
      "(50, 54] F       0.060928\n",
      "         M       0.053563\n"
     ]
    }
   ],
   "source": [
    "# Make pivot table to look at items vs age and gender\n",
    "con_gen_agg = dataset.groupby(['country','gender']).agg({'id_x':'count',\n",
    "                                           'item_total':['sum','mean']         \n",
    "                                }).round().reset_index() \n",
    "print(con_gen_agg)\n",
    "\n",
    "print( '\\n')\n",
    "\n",
    "con_agg = dataset.groupby(['country']).agg({'item_total':['sum']         \n",
    "                                }).round()\n",
    "print(con_agg.apply(lambda x: x/x.sum()))\n",
    "\n",
    "print( '\\n')\n",
    "\n",
    "age_gen_agg = dataset.groupby(['age_bin','gender']).agg({'user_id':['count']         \n",
    "                                })\n",
    "print(age_gen_agg.apply(lambda x: x/x.sum()))"
   ]
  },
  {
   "cell_type": "code",
   "execution_count": 18,
   "metadata": {
    "collapsed": false
   },
   "outputs": [
    {
     "data": {
      "text/plain": [
       "<matplotlib.axes._subplots.AxesSubplot at 0x18c9dc85940>"
      ]
     },
     "execution_count": 18,
     "metadata": {},
     "output_type": "execute_result"
    },
    {
     "data": {
      "image/png": "[encoded data removed]",
      "text/plain": [
       "<matplotlib.figure.Figure at 0x18c9dc75cf8>"
      ]
     },
     "metadata": {},
     "output_type": "display_data"
    }
   ],
   "source": [
    "dataset.groupby('country')['id_x'].count().plot(kind='barh')"
   ]
  },
  {
   "cell_type": "code",
   "execution_count": 56,
   "metadata": {
    "collapsed": false
   },
   "outputs": [
    {
     "data": {
      "text/plain": [
       "<matplotlib.axes._subplots.AxesSubplot at 0x28ff2e1c4e0>"
      ]
     },
     "execution_count": 56,
     "metadata": {},
     "output_type": "execute_result"
    },
    {
     "data": {
      "image/png": "[encoded data removed]",
      "text/plain": [
       "<matplotlib.figure.Figure at 0x28ff2e4e208>"
      ]
     },
     "metadata": {},
     "output_type": "display_data"
    }
   ],
   "source": [
    "sns.boxplot(x='country',y='item_total',hue='gender',data=dataset)"
   ]
  },
  {
   "cell_type": "code",
   "execution_count": 75,
   "metadata": {
    "collapsed": false
   },
   "outputs": [
    {
     "data": {
      "text/html": [
       "<div>\n",
       "<table border=\"1\" class=\"dataframe\">\n",
       "  <thead>\n",
       "    <tr style=\"text-align: right;\">\n",
       "      <th></th>\n",
       "      <th>id_x</th>\n",
       "      <th>user_id</th>\n",
       "      <th>item_total</th>\n",
       "      <th>shipping_cost</th>\n",
       "      <th>discounts_applied</th>\n",
       "      <th>age</th>\n",
       "      <th>days_on_site_in_2016</th>\n",
       "      <th>order_hour</th>\n",
       "    </tr>\n",
       "  </thead>\n",
       "  <tbody>\n",
       "    <tr>\n",
       "      <th>count</th>\n",
       "      <td>51738.000000</td>\n",
       "      <td>51738.000000</td>\n",
       "      <td>51738.000000</td>\n",
       "      <td>51738.000000</td>\n",
       "      <td>4300.0</td>\n",
       "      <td>51738.000000</td>\n",
       "      <td>51738.000000</td>\n",
       "      <td>51738.000000</td>\n",
       "    </tr>\n",
       "    <tr>\n",
       "      <th>mean</th>\n",
       "      <td>25869.500000</td>\n",
       "      <td>5006.494646</td>\n",
       "      <td>126.398776</td>\n",
       "      <td>13.994646</td>\n",
       "      <td>5.0</td>\n",
       "      <td>37.357436</td>\n",
       "      <td>19.788898</td>\n",
       "      <td>11.566933</td>\n",
       "    </tr>\n",
       "    <tr>\n",
       "      <th>std</th>\n",
       "      <td>14935.618451</td>\n",
       "      <td>2890.480242</td>\n",
       "      <td>35.045324</td>\n",
       "      <td>3.941930</td>\n",
       "      <td>0.0</td>\n",
       "      <td>9.787556</td>\n",
       "      <td>13.885279</td>\n",
       "      <td>6.939224</td>\n",
       "    </tr>\n",
       "    <tr>\n",
       "      <th>min</th>\n",
       "      <td>1.000000</td>\n",
       "      <td>2.000000</td>\n",
       "      <td>43.040000</td>\n",
       "      <td>10.000000</td>\n",
       "      <td>5.0</td>\n",
       "      <td>21.000000</td>\n",
       "      <td>1.000000</td>\n",
       "      <td>0.000000</td>\n",
       "    </tr>\n",
       "    <tr>\n",
       "      <th>25%</th>\n",
       "      <td>12935.250000</td>\n",
       "      <td>2543.000000</td>\n",
       "      <td>100.750000</td>\n",
       "      <td>10.000000</td>\n",
       "      <td>5.0</td>\n",
       "      <td>29.000000</td>\n",
       "      <td>10.000000</td>\n",
       "      <td>6.000000</td>\n",
       "    </tr>\n",
       "    <tr>\n",
       "      <th>50%</th>\n",
       "      <td>25869.500000</td>\n",
       "      <td>4973.000000</td>\n",
       "      <td>126.410000</td>\n",
       "      <td>15.000000</td>\n",
       "      <td>5.0</td>\n",
       "      <td>37.000000</td>\n",
       "      <td>17.000000</td>\n",
       "      <td>12.000000</td>\n",
       "    </tr>\n",
       "    <tr>\n",
       "      <th>75%</th>\n",
       "      <td>38803.750000</td>\n",
       "      <td>7487.000000</td>\n",
       "      <td>152.047500</td>\n",
       "      <td>15.000000</td>\n",
       "      <td>5.0</td>\n",
       "      <td>46.000000</td>\n",
       "      <td>27.000000</td>\n",
       "      <td>18.000000</td>\n",
       "    </tr>\n",
       "    <tr>\n",
       "      <th>max</th>\n",
       "      <td>51738.000000</td>\n",
       "      <td>10000.000000</td>\n",
       "      <td>222.960000</td>\n",
       "      <td>25.000000</td>\n",
       "      <td>5.0</td>\n",
       "      <td>54.000000</td>\n",
       "      <td>87.000000</td>\n",
       "      <td>23.000000</td>\n",
       "    </tr>\n",
       "  </tbody>\n",
       "</table>\n",
       "</div>"
      ],
      "text/plain": [
       "               id_x       user_id    item_total  shipping_cost  \\\n",
       "count  51738.000000  51738.000000  51738.000000   51738.000000   \n",
       "mean   25869.500000   5006.494646    126.398776      13.994646   \n",
       "std    14935.618451   2890.480242     35.045324       3.941930   \n",
       "min        1.000000      2.000000     43.040000      10.000000   \n",
       "25%    12935.250000   2543.000000    100.750000      10.000000   \n",
       "50%    25869.500000   4973.000000    126.410000      15.000000   \n",
       "75%    38803.750000   7487.000000    152.047500      15.000000   \n",
       "max    51738.000000  10000.000000    222.960000      25.000000   \n",
       "\n",
       "       discounts_applied           age  days_on_site_in_2016    order_hour  \n",
       "count             4300.0  51738.000000          51738.000000  51738.000000  \n",
       "mean                 5.0     37.357436             19.788898     11.566933  \n",
       "std                  0.0      9.787556             13.885279      6.939224  \n",
       "min                  5.0     21.000000              1.000000      0.000000  \n",
       "25%                  5.0     29.000000             10.000000      6.000000  \n",
       "50%                  5.0     37.000000             17.000000     12.000000  \n",
       "75%                  5.0     46.000000             27.000000     18.000000  \n",
       "max                  5.0     54.000000             87.000000     23.000000  "
      ]
     },
     "execution_count": 75,
     "metadata": {},
     "output_type": "execute_result"
    }
   ],
   "source": [
    "dataset.describe()"
   ]
  },
  {
   "cell_type": "code",
   "execution_count": null,
   "metadata": {
    "collapsed": true
   },
   "outputs": [],
   "source": []
  },
  {
   "cell_type": "code",
   "execution_count": null,
   "metadata": {
    "collapsed": false
   },
   "outputs": [],
   "source": []
  },
  {
   "cell_type": "code",
   "execution_count": null,
   "metadata": {
    "collapsed": false
   },
   "outputs": [],
   "source": []
  },
  {
   "cell_type": "code",
   "execution_count": null,
   "metadata": {
    "collapsed": true
   },
   "outputs": [],
   "source": []
  }
 ],
 "metadata": {
  "kernelspec": {
   "display_name": "Python 3",
   "language": "python",
   "name": "python3"
  },
  "language_info": {
   "codemirror_mode": {
    "name": "ipython",
    "version": 3
   },
   "file_extension": ".py",
   "mimetype": "text/x-python",
   "name": "python",
   "nbconvert_exporter": "python",
   "pygments_lexer": "ipython3",
   "version": "3.6.0"
  }
 },
 "nbformat": 4,
 "nbformat_minor": 2
}
