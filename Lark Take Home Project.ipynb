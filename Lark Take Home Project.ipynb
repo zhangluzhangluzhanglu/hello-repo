{
 "cells": [
  {
   "cell_type": "code",
   "execution_count": 1,
   "metadata": {
    "collapsed": true
   },
   "outputs": [],
   "source": [
    "import pandas as pd\n",
    "import os\n",
    "import seaborn as sns\n",
    "import matplotlib.pyplot as plt\n",
    "import calendar\n",
    "import numpy as np\n",
    "import datetime\n",
    "%matplotlib inline"
   ]
  },
  {
   "cell_type": "code",
   "execution_count": 42,
   "metadata": {
    "collapsed": false
   },
   "outputs": [],
   "source": [
    "activity = pd.read_csv('agg_info.csv')\n",
    "mission = pd.read_csv('user_mission.csv')"
   ]
  },
  {
   "cell_type": "code",
   "execution_count": 35,
   "metadata": {
    "collapsed": false
   },
   "outputs": [
    {
     "data": {
      "text/html": [
       "<div>\n",
       "<table border=\"1\" class=\"dataframe\">\n",
       "  <thead>\n",
       "    <tr style=\"text-align: right;\">\n",
       "      <th></th>\n",
       "      <th>idaggregate_info</th>\n",
       "      <th>user_id</th>\n",
       "      <th>dt</th>\n",
       "      <th>num_events</th>\n",
       "      <th>num_lark_convo_events</th>\n",
       "      <th>num_meals_logged</th>\n",
       "      <th>num_breakfasts</th>\n",
       "      <th>num_lunches</th>\n",
       "      <th>num_dinners</th>\n",
       "      <th>num_snacks</th>\n",
       "      <th>total_activity</th>\n",
       "      <th>sleep_duration</th>\n",
       "      <th>num_activity_events</th>\n",
       "      <th>num_weights</th>\n",
       "      <th>num_notifs</th>\n",
       "    </tr>\n",
       "  </thead>\n",
       "  <tbody>\n",
       "    <tr>\n",
       "      <th>0</th>\n",
       "      <td>0</td>\n",
       "      <td>0</td>\n",
       "      <td>2018-08-01 00:00:00</td>\n",
       "      <td>0</td>\n",
       "      <td>0</td>\n",
       "      <td>0</td>\n",
       "      <td>0</td>\n",
       "      <td>0</td>\n",
       "      <td>0</td>\n",
       "      <td>0</td>\n",
       "      <td>0</td>\n",
       "      <td>0</td>\n",
       "      <td>0</td>\n",
       "      <td>0</td>\n",
       "      <td>0</td>\n",
       "    </tr>\n",
       "    <tr>\n",
       "      <th>1</th>\n",
       "      <td>1</td>\n",
       "      <td>0</td>\n",
       "      <td>2018-08-02 00:00:00</td>\n",
       "      <td>0</td>\n",
       "      <td>0</td>\n",
       "      <td>0</td>\n",
       "      <td>0</td>\n",
       "      <td>0</td>\n",
       "      <td>0</td>\n",
       "      <td>0</td>\n",
       "      <td>0</td>\n",
       "      <td>0</td>\n",
       "      <td>0</td>\n",
       "      <td>0</td>\n",
       "      <td>0</td>\n",
       "    </tr>\n",
       "    <tr>\n",
       "      <th>2</th>\n",
       "      <td>2</td>\n",
       "      <td>0</td>\n",
       "      <td>2018-08-03 00:00:00</td>\n",
       "      <td>0</td>\n",
       "      <td>0</td>\n",
       "      <td>0</td>\n",
       "      <td>0</td>\n",
       "      <td>0</td>\n",
       "      <td>0</td>\n",
       "      <td>0</td>\n",
       "      <td>0</td>\n",
       "      <td>0</td>\n",
       "      <td>0</td>\n",
       "      <td>0</td>\n",
       "      <td>0</td>\n",
       "    </tr>\n",
       "    <tr>\n",
       "      <th>3</th>\n",
       "      <td>3</td>\n",
       "      <td>0</td>\n",
       "      <td>2018-08-04 00:00:00</td>\n",
       "      <td>0</td>\n",
       "      <td>0</td>\n",
       "      <td>0</td>\n",
       "      <td>0</td>\n",
       "      <td>0</td>\n",
       "      <td>0</td>\n",
       "      <td>0</td>\n",
       "      <td>0</td>\n",
       "      <td>0</td>\n",
       "      <td>0</td>\n",
       "      <td>0</td>\n",
       "      <td>0</td>\n",
       "    </tr>\n",
       "    <tr>\n",
       "      <th>4</th>\n",
       "      <td>4</td>\n",
       "      <td>0</td>\n",
       "      <td>2018-08-05 00:00:00</td>\n",
       "      <td>0</td>\n",
       "      <td>0</td>\n",
       "      <td>0</td>\n",
       "      <td>0</td>\n",
       "      <td>0</td>\n",
       "      <td>0</td>\n",
       "      <td>0</td>\n",
       "      <td>0</td>\n",
       "      <td>0</td>\n",
       "      <td>0</td>\n",
       "      <td>0</td>\n",
       "      <td>0</td>\n",
       "    </tr>\n",
       "  </tbody>\n",
       "</table>\n",
       "</div>"
      ],
      "text/plain": [
       "   idaggregate_info  user_id                   dt  num_events  \\\n",
       "0                 0        0  2018-08-01 00:00:00           0   \n",
       "1                 1        0  2018-08-02 00:00:00           0   \n",
       "2                 2        0  2018-08-03 00:00:00           0   \n",
       "3                 3        0  2018-08-04 00:00:00           0   \n",
       "4                 4        0  2018-08-05 00:00:00           0   \n",
       "\n",
       "   num_lark_convo_events  num_meals_logged  num_breakfasts  num_lunches  \\\n",
       "0                      0                 0               0            0   \n",
       "1                      0                 0               0            0   \n",
       "2                      0                 0               0            0   \n",
       "3                      0                 0               0            0   \n",
       "4                      0                 0               0            0   \n",
       "\n",
       "   num_dinners  num_snacks  total_activity  sleep_duration  \\\n",
       "0            0           0               0               0   \n",
       "1            0           0               0               0   \n",
       "2            0           0               0               0   \n",
       "3            0           0               0               0   \n",
       "4            0           0               0               0   \n",
       "\n",
       "   num_activity_events  num_weights  num_notifs  \n",
       "0                    0            0           0  \n",
       "1                    0            0           0  \n",
       "2                    0            0           0  \n",
       "3                    0            0           0  \n",
       "4                    0            0           0  "
      ]
     },
     "execution_count": 35,
     "metadata": {},
     "output_type": "execute_result"
    }
   ],
   "source": [
    "activity.head()"
   ]
  },
  {
   "cell_type": "code",
   "execution_count": 244,
   "metadata": {
    "collapsed": false
   },
   "outputs": [
    {
     "data": {
      "text/html": [
       "<div>\n",
       "<table border=\"1\" class=\"dataframe\">\n",
       "  <thead>\n",
       "    <tr style=\"text-align: right;\">\n",
       "      <th></th>\n",
       "      <th>idusermission</th>\n",
       "      <th>start_timestamp</th>\n",
       "      <th>end_timestamp</th>\n",
       "      <th>completed</th>\n",
       "      <th>user_id</th>\n",
       "    </tr>\n",
       "  </thead>\n",
       "  <tbody>\n",
       "    <tr>\n",
       "      <th>0</th>\n",
       "      <td>0</td>\n",
       "      <td>2018-08-03 20:30:55</td>\n",
       "      <td>2018-08-10 15:40:58</td>\n",
       "      <td>1</td>\n",
       "      <td>78</td>\n",
       "    </tr>\n",
       "    <tr>\n",
       "      <th>1</th>\n",
       "      <td>1</td>\n",
       "      <td>2018-08-10 15:40:58</td>\n",
       "      <td>2018-08-17 13:18:01</td>\n",
       "      <td>1</td>\n",
       "      <td>78</td>\n",
       "    </tr>\n",
       "    <tr>\n",
       "      <th>2</th>\n",
       "      <td>2</td>\n",
       "      <td>2018-08-17 13:18:01</td>\n",
       "      <td>2018-08-24 16:13:03</td>\n",
       "      <td>1</td>\n",
       "      <td>78</td>\n",
       "    </tr>\n",
       "    <tr>\n",
       "      <th>3</th>\n",
       "      <td>3</td>\n",
       "      <td>2018-08-24 16:13:03</td>\n",
       "      <td>0000-00-00 00:00:00</td>\n",
       "      <td>0</td>\n",
       "      <td>78</td>\n",
       "    </tr>\n",
       "    <tr>\n",
       "      <th>4</th>\n",
       "      <td>4</td>\n",
       "      <td>2018-08-04 20:51:38</td>\n",
       "      <td>2018-08-11 19:16:38</td>\n",
       "      <td>1</td>\n",
       "      <td>89</td>\n",
       "    </tr>\n",
       "  </tbody>\n",
       "</table>\n",
       "</div>"
      ],
      "text/plain": [
       "   idusermission      start_timestamp        end_timestamp  completed  user_id\n",
       "0              0  2018-08-03 20:30:55  2018-08-10 15:40:58          1       78\n",
       "1              1  2018-08-10 15:40:58  2018-08-17 13:18:01          1       78\n",
       "2              2  2018-08-17 13:18:01  2018-08-24 16:13:03          1       78\n",
       "3              3  2018-08-24 16:13:03  0000-00-00 00:00:00          0       78\n",
       "4              4  2018-08-04 20:51:38  2018-08-11 19:16:38          1       89"
      ]
     },
     "execution_count": 244,
     "metadata": {},
     "output_type": "execute_result"
    }
   ],
   "source": [
    "mission.head()"
   ]
  },
  {
   "cell_type": "code",
   "execution_count": 245,
   "metadata": {
    "collapsed": false
   },
   "outputs": [
    {
     "name": "stdout",
     "output_type": "stream",
     "text": [
      "<class 'pandas.core.frame.DataFrame'>\n",
      "RangeIndex: 1000 entries, 0 to 999\n",
      "Data columns (total 5 columns):\n",
      "idusermission      1000 non-null int64\n",
      "start_timestamp    1000 non-null object\n",
      "end_timestamp      1000 non-null object\n",
      "completed          1000 non-null int64\n",
      "user_id            1000 non-null int64\n",
      "dtypes: int64(3), object(2)\n",
      "memory usage: 39.1+ KB\n"
     ]
    }
   ],
   "source": [
    "mission.info()"
   ]
  },
  {
   "cell_type": "code",
   "execution_count": 6,
   "metadata": {
    "collapsed": false
   },
   "outputs": [
    {
     "data": {
      "text/html": [
       "<div>\n",
       "<table border=\"1\" class=\"dataframe\">\n",
       "  <thead>\n",
       "    <tr style=\"text-align: right;\">\n",
       "      <th></th>\n",
       "      <th>idusermission</th>\n",
       "      <th>start_timestamp</th>\n",
       "      <th>end_timestamp</th>\n",
       "      <th>completed</th>\n",
       "      <th>user_id</th>\n",
       "      <th>start_ymd</th>\n",
       "      <th>start_hms</th>\n",
       "      <th>end_ymd</th>\n",
       "      <th>end_hms</th>\n",
       "      <th>start_year</th>\n",
       "      <th>start_month</th>\n",
       "      <th>start_day</th>\n",
       "      <th>end_year</th>\n",
       "      <th>end_month</th>\n",
       "      <th>end_day</th>\n",
       "      <th>day_diff</th>\n",
       "    </tr>\n",
       "  </thead>\n",
       "  <tbody>\n",
       "    <tr>\n",
       "      <th>0</th>\n",
       "      <td>0</td>\n",
       "      <td>2018-08-03 20:30:55</td>\n",
       "      <td>2018-08-10 15:40:58</td>\n",
       "      <td>1</td>\n",
       "      <td>78</td>\n",
       "      <td>2018-08-03</td>\n",
       "      <td>20:30:55</td>\n",
       "      <td>2018-08-10</td>\n",
       "      <td>15:40:58</td>\n",
       "      <td>2018</td>\n",
       "      <td>8</td>\n",
       "      <td>3</td>\n",
       "      <td>2018</td>\n",
       "      <td>8</td>\n",
       "      <td>10</td>\n",
       "      <td>7</td>\n",
       "    </tr>\n",
       "    <tr>\n",
       "      <th>1</th>\n",
       "      <td>1</td>\n",
       "      <td>2018-08-10 15:40:58</td>\n",
       "      <td>2018-08-17 13:18:01</td>\n",
       "      <td>1</td>\n",
       "      <td>78</td>\n",
       "      <td>2018-08-10</td>\n",
       "      <td>15:40:58</td>\n",
       "      <td>2018-08-17</td>\n",
       "      <td>13:18:01</td>\n",
       "      <td>2018</td>\n",
       "      <td>8</td>\n",
       "      <td>10</td>\n",
       "      <td>2018</td>\n",
       "      <td>8</td>\n",
       "      <td>17</td>\n",
       "      <td>7</td>\n",
       "    </tr>\n",
       "    <tr>\n",
       "      <th>2</th>\n",
       "      <td>2</td>\n",
       "      <td>2018-08-17 13:18:01</td>\n",
       "      <td>2018-08-24 16:13:03</td>\n",
       "      <td>1</td>\n",
       "      <td>78</td>\n",
       "      <td>2018-08-17</td>\n",
       "      <td>13:18:01</td>\n",
       "      <td>2018-08-24</td>\n",
       "      <td>16:13:03</td>\n",
       "      <td>2018</td>\n",
       "      <td>8</td>\n",
       "      <td>17</td>\n",
       "      <td>2018</td>\n",
       "      <td>8</td>\n",
       "      <td>24</td>\n",
       "      <td>7</td>\n",
       "    </tr>\n",
       "    <tr>\n",
       "      <th>3</th>\n",
       "      <td>3</td>\n",
       "      <td>2018-08-24 16:13:03</td>\n",
       "      <td>0000-00-00 00:00:00</td>\n",
       "      <td>0</td>\n",
       "      <td>78</td>\n",
       "      <td>2018-08-24</td>\n",
       "      <td>16:13:03</td>\n",
       "      <td>0000-00-00</td>\n",
       "      <td>00:00:00</td>\n",
       "      <td>2018</td>\n",
       "      <td>8</td>\n",
       "      <td>24</td>\n",
       "      <td>0</td>\n",
       "      <td>0</td>\n",
       "      <td>0</td>\n",
       "      <td>-24</td>\n",
       "    </tr>\n",
       "    <tr>\n",
       "      <th>4</th>\n",
       "      <td>4</td>\n",
       "      <td>2018-08-04 20:51:38</td>\n",
       "      <td>2018-08-11 19:16:38</td>\n",
       "      <td>1</td>\n",
       "      <td>89</td>\n",
       "      <td>2018-08-04</td>\n",
       "      <td>20:51:38</td>\n",
       "      <td>2018-08-11</td>\n",
       "      <td>19:16:38</td>\n",
       "      <td>2018</td>\n",
       "      <td>8</td>\n",
       "      <td>4</td>\n",
       "      <td>2018</td>\n",
       "      <td>8</td>\n",
       "      <td>11</td>\n",
       "      <td>7</td>\n",
       "    </tr>\n",
       "  </tbody>\n",
       "</table>\n",
       "</div>"
      ],
      "text/plain": [
       "   idusermission      start_timestamp        end_timestamp  completed  \\\n",
       "0              0  2018-08-03 20:30:55  2018-08-10 15:40:58          1   \n",
       "1              1  2018-08-10 15:40:58  2018-08-17 13:18:01          1   \n",
       "2              2  2018-08-17 13:18:01  2018-08-24 16:13:03          1   \n",
       "3              3  2018-08-24 16:13:03  0000-00-00 00:00:00          0   \n",
       "4              4  2018-08-04 20:51:38  2018-08-11 19:16:38          1   \n",
       "\n",
       "   user_id   start_ymd start_hms     end_ymd   end_hms  start_year  \\\n",
       "0       78  2018-08-03  20:30:55  2018-08-10  15:40:58        2018   \n",
       "1       78  2018-08-10  15:40:58  2018-08-17  13:18:01        2018   \n",
       "2       78  2018-08-17  13:18:01  2018-08-24  16:13:03        2018   \n",
       "3       78  2018-08-24  16:13:03  0000-00-00  00:00:00        2018   \n",
       "4       89  2018-08-04  20:51:38  2018-08-11  19:16:38        2018   \n",
       "\n",
       "   start_month  start_day  end_year  end_month  end_day  day_diff  \n",
       "0            8          3      2018          8       10         7  \n",
       "1            8         10      2018          8       17         7  \n",
       "2            8         17      2018          8       24         7  \n",
       "3            8         24         0          0        0       -24  \n",
       "4            8          4      2018          8       11         7  "
      ]
     },
     "execution_count": 6,
     "metadata": {},
     "output_type": "execute_result"
    }
   ],
   "source": [
    "# parsing timestamps\n",
    "mission[['start_ymd','start_hms']] = mission.start_timestamp.str.split(\" \",expand=True)\n",
    "mission[['end_ymd','end_hms']] = mission.end_timestamp.str.split(\" \",expand=True)\n",
    "mission[['start_year','start_month','start_day']] = mission.start_ymd.str.split(\"-\",expand=True).astype(str).astype(int)\n",
    "mission[['end_year','end_month','end_day']] = mission.end_ymd.str.split(\"-\",expand=True).astype(str).astype(int)\n",
    "\n",
    "# days taken to complete a mission = end day - start day\n",
    "mission['day_diff'] = mission.end_day.astype(str).astype(int) - mission.start_day.astype(str).astype(int)\n",
    "mission.head()"
   ]
  },
  {
   "cell_type": "code",
   "execution_count": 7,
   "metadata": {
    "collapsed": false
   },
   "outputs": [],
   "source": [
    "# since everyone get mission in the same order, ranking start day by user gets us mission 1,2,3.. for each user\n",
    "mission['mission_number'] = mission.groupby('user_id')['start_day'].rank(ascending=True).round().astype(str)"
   ]
  },
  {
   "cell_type": "code",
   "execution_count": 8,
   "metadata": {
    "collapsed": false
   },
   "outputs": [],
   "source": [
    "# get a list of completed mission: excluding mission incomplete, date diff less than five days - they are data error\n",
    "mission_complete = mission[(mission['completed']==1) & (mission['day_diff']>=5)]"
   ]
  },
  {
   "cell_type": "code",
   "execution_count": 9,
   "metadata": {
    "collapsed": false
   },
   "outputs": [
    {
     "data": {
      "text/plain": [
       "1000"
      ]
     },
     "execution_count": 9,
     "metadata": {},
     "output_type": "execute_result"
    }
   ],
   "source": [
    "# Total mission started in the month: 1000\n",
    "mission.idusermission.count()"
   ]
  },
  {
   "cell_type": "code",
   "execution_count": 10,
   "metadata": {
    "collapsed": false
   },
   "outputs": [
    {
     "data": {
      "text/plain": [
       "374"
      ]
     },
     "execution_count": 10,
     "metadata": {},
     "output_type": "execute_result"
    }
   ],
   "source": [
    "# Total mission completed: 374\n",
    "mission_complete.idusermission.count()"
   ]
  },
  {
   "cell_type": "code",
   "execution_count": 11,
   "metadata": {
    "collapsed": false
   },
   "outputs": [
    {
     "data": {
      "text/plain": [
       "count    374.000000\n",
       "mean       7.727273\n",
       "std        1.718985\n",
       "min        6.000000\n",
       "25%        7.000000\n",
       "50%        7.000000\n",
       "75%        8.000000\n",
       "max       20.000000\n",
       "Name: day_diff, dtype: float64"
      ]
     },
     "execution_count": 11,
     "metadata": {},
     "output_type": "execute_result"
    }
   ],
   "source": [
    "# min, max, avg ... days to complete mission\n",
    "mission_complete.day_diff.describe()"
   ]
  },
  {
   "cell_type": "code",
   "execution_count": 252,
   "metadata": {
    "collapsed": false
   },
   "outputs": [
    {
     "data": {
      "image/png": "[encoded data removed]",
      "text/plain": [
       "<matplotlib.figure.Figure at 0x1a77f4e0c88>"
      ]
     },
     "metadata": {},
     "output_type": "display_data"
    }
   ],
   "source": [
    "# histogram of days taken to complete mission - screwed - most user took 6 - 10 days \n",
    "plt.hist(mission_complete['day_diff'],bins=10,alpha=0.5,histtype='stepfilled', color='steelblue');"
   ]
  },
  {
   "cell_type": "code",
   "execution_count": 253,
   "metadata": {
    "collapsed": false
   },
   "outputs": [
    {
     "data": {
      "text/html": [
       "<div>\n",
       "<table border=\"1\" class=\"dataframe\">\n",
       "  <thead>\n",
       "    <tr>\n",
       "      <th></th>\n",
       "      <th colspan=\"2\" halign=\"left\">day_diff</th>\n",
       "    </tr>\n",
       "    <tr>\n",
       "      <th></th>\n",
       "      <th>count</th>\n",
       "      <th>mean</th>\n",
       "    </tr>\n",
       "    <tr>\n",
       "      <th>mission_number</th>\n",
       "      <th></th>\n",
       "      <th></th>\n",
       "    </tr>\n",
       "  </thead>\n",
       "  <tbody>\n",
       "    <tr>\n",
       "      <th>1.0</th>\n",
       "      <td>327</td>\n",
       "      <td>7.660550</td>\n",
       "    </tr>\n",
       "    <tr>\n",
       "      <th>2.0</th>\n",
       "      <td>37</td>\n",
       "      <td>8.405405</td>\n",
       "    </tr>\n",
       "    <tr>\n",
       "      <th>3.0</th>\n",
       "      <td>10</td>\n",
       "      <td>7.400000</td>\n",
       "    </tr>\n",
       "  </tbody>\n",
       "</table>\n",
       "</div>"
      ],
      "text/plain": [
       "               day_diff          \n",
       "                  count      mean\n",
       "mission_number                   \n",
       "1.0                 327  7.660550\n",
       "2.0                  37  8.405405\n",
       "3.0                  10  7.400000"
      ]
     },
     "execution_count": 253,
     "metadata": {},
     "output_type": "execute_result"
    }
   ],
   "source": [
    "# count of competed mission and average days to complete by each mission, assuming the first mission of any users in the dataset is this user's very first mission.\n",
    "mission_complete.groupby(['mission_number']).agg({'day_diff':['count','mean']})\n",
    "# There were 327 mission one completed, took 7.6 days on average to finish , etc."
   ]
  },
  {
   "cell_type": "code",
   "execution_count": 25,
   "metadata": {
    "collapsed": false
   },
   "outputs": [
    {
     "data": {
      "text/plain": [
       "<matplotlib.axes._subplots.AxesSubplot at 0x1f58ac14be0>"
      ]
     },
     "execution_count": 25,
     "metadata": {},
     "output_type": "execute_result"
    },
    {
     "data": {
      "image/png": "[encoded data removed]",
      "text/plain": [
       "<matplotlib.figure.Figure at 0x1f58ac18ac8>"
      ]
     },
     "metadata": {},
     "output_type": "display_data"
    }
   ],
   "source": [
    "# boxplot for the same thing\n",
    "sns.boxplot(x='mission_number',y='day_diff',data=mission_complete)"
   ]
  },
  {
   "cell_type": "code",
   "execution_count": 19,
   "metadata": {
    "collapsed": false
   },
   "outputs": [],
   "source": [
    "# list of people who took long time to finish\n",
    "slow_complete_users = mission_complete[mission_complete['day_diff']>10][['user_id']]"
   ]
  },
  {
   "cell_type": "code",
   "execution_count": 12,
   "metadata": {
    "collapsed": false
   },
   "outputs": [],
   "source": [
    "### mission give up analysis ###\n",
    "# give up definition: the start day of incomplete mission is earlier than 23th. They have enough time to finish a mission but did not. Their missions are considered not likely to be finished in the next month. \n",
    "# give up definition is made because 8 day(31-23) is the 75 percentile day to finish a mission\n",
    "# start_day_min is the first day of user started their first mission, start_day_max is the day of user started their latest/incomplete mission\n",
    "mission_beg_drop_day = mission.groupby(['user_id']).agg({'start_day':['min','max']}).reset_index()\n",
    "mission_beg_drop_day.columns = [\"_\".join(x) for x in mission_beg_drop_day.columns.ravel()]\n",
    "mission_beg_drop_day['beg_drop_diff'] = mission_beg_drop_day['start_day_max'] - mission_beg_drop_day['start_day_min']\n",
    "\n",
    "# notice that everyone has one incomplete mission \n",
    "# therefore beg_drop_diff = 0 indicates that they never complete any mission and dropped, 8 indicates that 8 days after they were onsite they dropped\n",
    "mission_beg_drop_list = mission_beg_drop_day[mission_beg_drop_day.start_day_max <= 23]"
   ]
  },
  {
   "cell_type": "code",
   "execution_count": 16,
   "metadata": {
    "collapsed": false
   },
   "outputs": [
    {
     "data": {
      "text/html": [
       "<div>\n",
       "<table border=\"1\" class=\"dataframe\">\n",
       "  <thead>\n",
       "    <tr style=\"text-align: right;\">\n",
       "      <th></th>\n",
       "      <th>user_id_</th>\n",
       "      <th>start_day_min</th>\n",
       "      <th>start_day_max</th>\n",
       "      <th>beg_drop_diff</th>\n",
       "    </tr>\n",
       "  </thead>\n",
       "  <tbody>\n",
       "    <tr>\n",
       "      <th>2</th>\n",
       "      <td>5</td>\n",
       "      <td>17</td>\n",
       "      <td>17</td>\n",
       "      <td>0</td>\n",
       "    </tr>\n",
       "    <tr>\n",
       "      <th>4</th>\n",
       "      <td>7</td>\n",
       "      <td>16</td>\n",
       "      <td>23</td>\n",
       "      <td>7</td>\n",
       "    </tr>\n",
       "    <tr>\n",
       "      <th>7</th>\n",
       "      <td>17</td>\n",
       "      <td>20</td>\n",
       "      <td>20</td>\n",
       "      <td>0</td>\n",
       "    </tr>\n",
       "    <tr>\n",
       "      <th>8</th>\n",
       "      <td>18</td>\n",
       "      <td>23</td>\n",
       "      <td>23</td>\n",
       "      <td>0</td>\n",
       "    </tr>\n",
       "    <tr>\n",
       "      <th>11</th>\n",
       "      <td>22</td>\n",
       "      <td>23</td>\n",
       "      <td>23</td>\n",
       "      <td>0</td>\n",
       "    </tr>\n",
       "  </tbody>\n",
       "</table>\n",
       "</div>"
      ],
      "text/plain": [
       "    user_id_  start_day_min  start_day_max  beg_drop_diff\n",
       "2          5             17             17              0\n",
       "4          7             16             23              7\n",
       "7         17             20             20              0\n",
       "8         18             23             23              0\n",
       "11        22             23             23              0"
      ]
     },
     "execution_count": 16,
     "metadata": {},
     "output_type": "execute_result"
    }
   ],
   "source": [
    "mission_beg_drop_list.head()"
   ]
  },
  {
   "cell_type": "code",
   "execution_count": 17,
   "metadata": {
    "collapsed": false
   },
   "outputs": [
    {
     "data": {
      "text/html": [
       "<div>\n",
       "<table border=\"1\" class=\"dataframe\">\n",
       "  <thead>\n",
       "    <tr>\n",
       "      <th></th>\n",
       "      <th>user_id_</th>\n",
       "    </tr>\n",
       "    <tr>\n",
       "      <th></th>\n",
       "      <th>count</th>\n",
       "    </tr>\n",
       "    <tr>\n",
       "      <th>beg_drop_diff</th>\n",
       "      <th></th>\n",
       "    </tr>\n",
       "  </thead>\n",
       "  <tbody>\n",
       "    <tr>\n",
       "      <th>0</th>\n",
       "      <td>149</td>\n",
       "    </tr>\n",
       "    <tr>\n",
       "      <th>6</th>\n",
       "      <td>1</td>\n",
       "    </tr>\n",
       "    <tr>\n",
       "      <th>7</th>\n",
       "      <td>2</td>\n",
       "    </tr>\n",
       "    <tr>\n",
       "      <th>8</th>\n",
       "      <td>5</td>\n",
       "    </tr>\n",
       "    <tr>\n",
       "      <th>9</th>\n",
       "      <td>1</td>\n",
       "    </tr>\n",
       "    <tr>\n",
       "      <th>10</th>\n",
       "      <td>2</td>\n",
       "    </tr>\n",
       "    <tr>\n",
       "      <th>12</th>\n",
       "      <td>1</td>\n",
       "    </tr>\n",
       "    <tr>\n",
       "      <th>13</th>\n",
       "      <td>2</td>\n",
       "    </tr>\n",
       "    <tr>\n",
       "      <th>14</th>\n",
       "      <td>3</td>\n",
       "    </tr>\n",
       "    <tr>\n",
       "      <th>15</th>\n",
       "      <td>1</td>\n",
       "    </tr>\n",
       "    <tr>\n",
       "      <th>16</th>\n",
       "      <td>1</td>\n",
       "    </tr>\n",
       "    <tr>\n",
       "      <th>17</th>\n",
       "      <td>1</td>\n",
       "    </tr>\n",
       "  </tbody>\n",
       "</table>\n",
       "</div>"
      ],
      "text/plain": [
       "              user_id_\n",
       "                 count\n",
       "beg_drop_diff         \n",
       "0                  149\n",
       "6                    1\n",
       "7                    2\n",
       "8                    5\n",
       "9                    1\n",
       "10                   2\n",
       "12                   1\n",
       "13                   2\n",
       "14                   3\n",
       "15                   1\n",
       "16                   1\n",
       "17                   1"
      ]
     },
     "execution_count": 17,
     "metadata": {},
     "output_type": "execute_result"
    }
   ],
   "source": [
    "mission_beg_drop_list.groupby(['beg_drop_diff']).agg({'user_id_':['count']})\n",
    "# Observation: There were 149 people never completed the mission one they started before 23th. 6+ days are all single digit numbers. \n",
    "# conclusion: For users who completed at least one mission, they are very likely to moving on and are unlikely to give up. "
   ]
  },
  {
   "cell_type": "code",
   "execution_count": 22,
   "metadata": {
    "collapsed": false
   },
   "outputs": [
    {
     "data": {
      "text/plain": [
       "array([48, 72, 79, 80], dtype=int64)"
      ]
     },
     "execution_count": 22,
     "metadata": {},
     "output_type": "execute_result"
    }
   ],
   "source": [
    "# Do users took too longer(>10 days) to complete mission got discouraged and gave up? 4 out of 22 'slow users' gave up later. So this is not the case. \n",
    "np.intersect1d(slow_complete_users , mission_beg_drop_list.user_id_)"
   ]
  },
  {
   "cell_type": "code",
   "execution_count": null,
   "metadata": {
    "collapsed": false
   },
   "outputs": [],
   "source": []
  },
  {
   "cell_type": "code",
   "execution_count": 47,
   "metadata": {
    "collapsed": false
   },
   "outputs": [
    {
     "data": {
      "text/html": [
       "<div>\n",
       "<table border=\"1\" class=\"dataframe\">\n",
       "  <thead>\n",
       "    <tr style=\"text-align: right;\">\n",
       "      <th></th>\n",
       "      <th>idaggregate_info</th>\n",
       "      <th>user_id</th>\n",
       "      <th>num_events</th>\n",
       "      <th>num_lark_convo_events</th>\n",
       "      <th>num_meals_logged</th>\n",
       "      <th>num_breakfasts</th>\n",
       "      <th>num_lunches</th>\n",
       "      <th>num_dinners</th>\n",
       "      <th>num_snacks</th>\n",
       "      <th>total_activity</th>\n",
       "      <th>sleep_duration</th>\n",
       "      <th>num_activity_events</th>\n",
       "      <th>num_weights</th>\n",
       "      <th>num_notifs</th>\n",
       "    </tr>\n",
       "  </thead>\n",
       "  <tbody>\n",
       "    <tr>\n",
       "      <th>count</th>\n",
       "      <td>999.000000</td>\n",
       "      <td>971.000000</td>\n",
       "      <td>264.000000</td>\n",
       "      <td>186.000000</td>\n",
       "      <td>174.000000</td>\n",
       "      <td>135.0</td>\n",
       "      <td>111.000000</td>\n",
       "      <td>75.0</td>\n",
       "      <td>57.000000</td>\n",
       "      <td>261.000000</td>\n",
       "      <td>156.000000</td>\n",
       "      <td>261.000000</td>\n",
       "      <td>48.000000</td>\n",
       "      <td>207.000000</td>\n",
       "    </tr>\n",
       "    <tr>\n",
       "      <th>mean</th>\n",
       "      <td>500.000000</td>\n",
       "      <td>17.245108</td>\n",
       "      <td>28.666667</td>\n",
       "      <td>4.080645</td>\n",
       "      <td>2.316092</td>\n",
       "      <td>1.0</td>\n",
       "      <td>1.027027</td>\n",
       "      <td>1.0</td>\n",
       "      <td>1.385965</td>\n",
       "      <td>3049.344828</td>\n",
       "      <td>29245.230769</td>\n",
       "      <td>24.854406</td>\n",
       "      <td>1.645833</td>\n",
       "      <td>3.318841</td>\n",
       "    </tr>\n",
       "    <tr>\n",
       "      <th>std</th>\n",
       "      <td>288.530761</td>\n",
       "      <td>9.672773</td>\n",
       "      <td>19.364099</td>\n",
       "      <td>3.214654</td>\n",
       "      <td>1.289385</td>\n",
       "      <td>0.0</td>\n",
       "      <td>0.162898</td>\n",
       "      <td>0.0</td>\n",
       "      <td>0.700877</td>\n",
       "      <td>2977.418586</td>\n",
       "      <td>10297.886588</td>\n",
       "      <td>17.888164</td>\n",
       "      <td>1.756321</td>\n",
       "      <td>2.733251</td>\n",
       "    </tr>\n",
       "    <tr>\n",
       "      <th>min</th>\n",
       "      <td>1.000000</td>\n",
       "      <td>1.000000</td>\n",
       "      <td>1.000000</td>\n",
       "      <td>1.000000</td>\n",
       "      <td>1.000000</td>\n",
       "      <td>1.0</td>\n",
       "      <td>1.000000</td>\n",
       "      <td>1.0</td>\n",
       "      <td>1.000000</td>\n",
       "      <td>15.000000</td>\n",
       "      <td>59.000000</td>\n",
       "      <td>1.000000</td>\n",
       "      <td>1.000000</td>\n",
       "      <td>1.000000</td>\n",
       "    </tr>\n",
       "    <tr>\n",
       "      <th>25%</th>\n",
       "      <td>250.500000</td>\n",
       "      <td>9.000000</td>\n",
       "      <td>12.000000</td>\n",
       "      <td>2.000000</td>\n",
       "      <td>1.000000</td>\n",
       "      <td>1.0</td>\n",
       "      <td>1.000000</td>\n",
       "      <td>1.0</td>\n",
       "      <td>1.000000</td>\n",
       "      <td>1092.000000</td>\n",
       "      <td>23451.500000</td>\n",
       "      <td>9.000000</td>\n",
       "      <td>1.000000</td>\n",
       "      <td>1.000000</td>\n",
       "    </tr>\n",
       "    <tr>\n",
       "      <th>50%</th>\n",
       "      <td>500.000000</td>\n",
       "      <td>17.000000</td>\n",
       "      <td>24.500000</td>\n",
       "      <td>3.000000</td>\n",
       "      <td>2.000000</td>\n",
       "      <td>1.0</td>\n",
       "      <td>1.000000</td>\n",
       "      <td>1.0</td>\n",
       "      <td>1.000000</td>\n",
       "      <td>2052.000000</td>\n",
       "      <td>27351.000000</td>\n",
       "      <td>22.000000</td>\n",
       "      <td>1.000000</td>\n",
       "      <td>2.000000</td>\n",
       "    </tr>\n",
       "    <tr>\n",
       "      <th>75%</th>\n",
       "      <td>749.500000</td>\n",
       "      <td>26.000000</td>\n",
       "      <td>43.250000</td>\n",
       "      <td>5.000000</td>\n",
       "      <td>3.000000</td>\n",
       "      <td>1.0</td>\n",
       "      <td>1.000000</td>\n",
       "      <td>1.0</td>\n",
       "      <td>2.000000</td>\n",
       "      <td>3933.000000</td>\n",
       "      <td>31971.000000</td>\n",
       "      <td>38.000000</td>\n",
       "      <td>1.000000</td>\n",
       "      <td>4.000000</td>\n",
       "    </tr>\n",
       "    <tr>\n",
       "      <th>max</th>\n",
       "      <td>999.000000</td>\n",
       "      <td>34.000000</td>\n",
       "      <td>81.000000</td>\n",
       "      <td>19.000000</td>\n",
       "      <td>7.000000</td>\n",
       "      <td>1.0</td>\n",
       "      <td>2.000000</td>\n",
       "      <td>1.0</td>\n",
       "      <td>4.000000</td>\n",
       "      <td>19749.000000</td>\n",
       "      <td>64763.000000</td>\n",
       "      <td>81.000000</td>\n",
       "      <td>9.000000</td>\n",
       "      <td>15.000000</td>\n",
       "    </tr>\n",
       "  </tbody>\n",
       "</table>\n",
       "</div>"
      ],
      "text/plain": [
       "       idaggregate_info     user_id  num_events  num_lark_convo_events  \\\n",
       "count        999.000000  971.000000  264.000000             186.000000   \n",
       "mean         500.000000   17.245108   28.666667               4.080645   \n",
       "std          288.530761    9.672773   19.364099               3.214654   \n",
       "min            1.000000    1.000000    1.000000               1.000000   \n",
       "25%          250.500000    9.000000   12.000000               2.000000   \n",
       "50%          500.000000   17.000000   24.500000               3.000000   \n",
       "75%          749.500000   26.000000   43.250000               5.000000   \n",
       "max          999.000000   34.000000   81.000000              19.000000   \n",
       "\n",
       "       num_meals_logged  num_breakfasts  num_lunches  num_dinners  num_snacks  \\\n",
       "count        174.000000           135.0   111.000000         75.0   57.000000   \n",
       "mean           2.316092             1.0     1.027027          1.0    1.385965   \n",
       "std            1.289385             0.0     0.162898          0.0    0.700877   \n",
       "min            1.000000             1.0     1.000000          1.0    1.000000   \n",
       "25%            1.000000             1.0     1.000000          1.0    1.000000   \n",
       "50%            2.000000             1.0     1.000000          1.0    1.000000   \n",
       "75%            3.000000             1.0     1.000000          1.0    2.000000   \n",
       "max            7.000000             1.0     2.000000          1.0    4.000000   \n",
       "\n",
       "       total_activity  sleep_duration  num_activity_events  num_weights  \\\n",
       "count      261.000000      156.000000           261.000000    48.000000   \n",
       "mean      3049.344828    29245.230769            24.854406     1.645833   \n",
       "std       2977.418586    10297.886588            17.888164     1.756321   \n",
       "min         15.000000       59.000000             1.000000     1.000000   \n",
       "25%       1092.000000    23451.500000             9.000000     1.000000   \n",
       "50%       2052.000000    27351.000000            22.000000     1.000000   \n",
       "75%       3933.000000    31971.000000            38.000000     1.000000   \n",
       "max      19749.000000    64763.000000            81.000000     9.000000   \n",
       "\n",
       "       num_notifs  \n",
       "count  207.000000  \n",
       "mean     3.318841  \n",
       "std      2.733251  \n",
       "min      1.000000  \n",
       "25%      1.000000  \n",
       "50%      2.000000  \n",
       "75%      4.000000  \n",
       "max     15.000000  "
      ]
     },
     "execution_count": 47,
     "metadata": {},
     "output_type": "execute_result"
    }
   ],
   "source": [
    "# assuming 0 means did not log and ignore the fact that it might actually be 0\n",
    "# replace 0 with nan then describe the dataset \n",
    "activity1 = activity.replace(0, np.nan)\n",
    "activity1.describe()\n",
    "# By comparing count, we can see that users tend to not log weight(only 48 times), but like to log activities. Sleep and Meals are in between. \n",
    "# It's suggested to improve weight log function unless it's designed to be showen less frequently to users.\n",
    "# Other fun facts: Every day, on avg, users slept 29245 sec(8.12 hr), spent 3049 sec(0.84 hr) and had 3.2 Lark conversations."
   ]
  },
  {
   "cell_type": "code",
   "execution_count": 49,
   "metadata": {
    "collapsed": false
   },
   "outputs": [],
   "source": [
    "# Get sum of metrics by user\n",
    "act_agg = activity.groupby(['user_id']).agg({'num_events':'sum', \n",
    "                                           'num_lark_convo_events':'sum', \n",
    "                                           'num_meals_logged':'sum', \n",
    "                                           'num_breakfasts':'sum', \n",
    "                                           'num_lunches':'sum', \n",
    "                                           'num_dinners':'sum', \n",
    "                                           'num_snacks':'sum', \n",
    "                                           'total_activity':'sum', \n",
    "                                           'sleep_duration':'sum', \n",
    "                                           'num_activity_events':'sum', \n",
    "                                           'num_weights':'sum',\n",
    "                                           'num_notifs':'sum'})"
   ]
  },
  {
   "cell_type": "code",
   "execution_count": 108,
   "metadata": {
    "collapsed": false
   },
   "outputs": [
    {
     "data": {
      "text/html": [
       "<div>\n",
       "<table border=\"1\" class=\"dataframe\">\n",
       "  <thead>\n",
       "    <tr style=\"text-align: right;\">\n",
       "      <th></th>\n",
       "      <th>num_events</th>\n",
       "      <th>num_lark_convo_events</th>\n",
       "      <th>num_meals_logged</th>\n",
       "      <th>num_breakfasts</th>\n",
       "      <th>num_lunches</th>\n",
       "      <th>num_dinners</th>\n",
       "      <th>num_snacks</th>\n",
       "      <th>total_activity</th>\n",
       "      <th>sleep_duration</th>\n",
       "      <th>num_activity_events</th>\n",
       "      <th>num_weights</th>\n",
       "      <th>num_notifs</th>\n",
       "    </tr>\n",
       "    <tr>\n",
       "      <th>user_id</th>\n",
       "      <th></th>\n",
       "      <th></th>\n",
       "      <th></th>\n",
       "      <th></th>\n",
       "      <th></th>\n",
       "      <th></th>\n",
       "      <th></th>\n",
       "      <th></th>\n",
       "      <th></th>\n",
       "      <th></th>\n",
       "      <th></th>\n",
       "      <th></th>\n",
       "    </tr>\n",
       "  </thead>\n",
       "  <tbody>\n",
       "    <tr>\n",
       "      <th>0</th>\n",
       "      <td>94</td>\n",
       "      <td>20</td>\n",
       "      <td>7</td>\n",
       "      <td>2</td>\n",
       "      <td>2</td>\n",
       "      <td>2</td>\n",
       "      <td>1</td>\n",
       "      <td>4456</td>\n",
       "      <td>47738</td>\n",
       "      <td>72</td>\n",
       "      <td>0</td>\n",
       "      <td>18</td>\n",
       "    </tr>\n",
       "    <tr>\n",
       "      <th>1</th>\n",
       "      <td>121</td>\n",
       "      <td>48</td>\n",
       "      <td>26</td>\n",
       "      <td>8</td>\n",
       "      <td>7</td>\n",
       "      <td>2</td>\n",
       "      <td>9</td>\n",
       "      <td>48695</td>\n",
       "      <td>37560</td>\n",
       "      <td>53</td>\n",
       "      <td>14</td>\n",
       "      <td>48</td>\n",
       "    </tr>\n",
       "    <tr>\n",
       "      <th>2</th>\n",
       "      <td>356</td>\n",
       "      <td>32</td>\n",
       "      <td>15</td>\n",
       "      <td>6</td>\n",
       "      <td>6</td>\n",
       "      <td>1</td>\n",
       "      <td>2</td>\n",
       "      <td>41598</td>\n",
       "      <td>184113</td>\n",
       "      <td>314</td>\n",
       "      <td>1</td>\n",
       "      <td>21</td>\n",
       "    </tr>\n",
       "    <tr>\n",
       "      <th>3</th>\n",
       "      <td>120</td>\n",
       "      <td>13</td>\n",
       "      <td>6</td>\n",
       "      <td>2</td>\n",
       "      <td>2</td>\n",
       "      <td>1</td>\n",
       "      <td>1</td>\n",
       "      <td>5381</td>\n",
       "      <td>85212</td>\n",
       "      <td>102</td>\n",
       "      <td>1</td>\n",
       "      <td>13</td>\n",
       "    </tr>\n",
       "    <tr>\n",
       "      <th>4</th>\n",
       "      <td>106</td>\n",
       "      <td>17</td>\n",
       "      <td>1</td>\n",
       "      <td>1</td>\n",
       "      <td>0</td>\n",
       "      <td>0</td>\n",
       "      <td>0</td>\n",
       "      <td>2737</td>\n",
       "      <td>136014</td>\n",
       "      <td>84</td>\n",
       "      <td>1</td>\n",
       "      <td>7</td>\n",
       "    </tr>\n",
       "  </tbody>\n",
       "</table>\n",
       "</div>"
      ],
      "text/plain": [
       "         num_events  num_lark_convo_events  num_meals_logged  num_breakfasts  \\\n",
       "user_id                                                                        \n",
       "0                94                     20                 7               2   \n",
       "1               121                     48                26               8   \n",
       "2               356                     32                15               6   \n",
       "3               120                     13                 6               2   \n",
       "4               106                     17                 1               1   \n",
       "\n",
       "         num_lunches  num_dinners  num_snacks  total_activity  sleep_duration  \\\n",
       "user_id                                                                         \n",
       "0                  2            2           1            4456           47738   \n",
       "1                  7            2           9           48695           37560   \n",
       "2                  6            1           2           41598          184113   \n",
       "3                  2            1           1            5381           85212   \n",
       "4                  0            0           0            2737          136014   \n",
       "\n",
       "         num_activity_events  num_weights  num_notifs  \n",
       "user_id                                                \n",
       "0                         72            0          18  \n",
       "1                         53           14          48  \n",
       "2                        314            1          21  \n",
       "3                        102            1          13  \n",
       "4                         84            1           7  "
      ]
     },
     "execution_count": 108,
     "metadata": {},
     "output_type": "execute_result"
    }
   ],
   "source": [
    "act_agg.head()"
   ]
  },
  {
   "cell_type": "code",
   "execution_count": 50,
   "metadata": {
    "collapsed": false
   },
   "outputs": [
    {
     "data": {
      "text/plain": [
       "<matplotlib.axes._subplots.AxesSubplot at 0x1f58ae5ffd0>"
      ]
     },
     "execution_count": 50,
     "metadata": {},
     "output_type": "execute_result"
    },
    {
     "data": {
      "image/png": "[encoded data removed]",
      "text/plain": [
       "<matplotlib.figure.Figure at 0x1f58b12f5f8>"
      ]
     },
     "metadata": {},
     "output_type": "display_data"
    }
   ],
   "source": [
    "# check correlation excluding num_events because it's a sum of some other columns.\n",
    "spearman_cormatrix = act_agg[['num_meals_logged','total_activity','sleep_duration','num_activity_events','num_lark_convo_events','num_notifs']].corr(method='spearman') \n",
    "plt.figure(figsize=(4, 3))\n",
    "sns.heatmap(spearman_cormatrix, annot=True, cmap=\"YlGnBu\")\n",
    "# All of the correlations are positive. \n",
    "# Seems like the more notification received, the more likely users would log activity, meals and have lark conversation.\n",
    "# Seems like the more activity events, the more sleep logged.\n",
    "# With limited knowledge on column definitions, I would not make any more conclusions here. "
   ]
  },
  {
   "cell_type": "code",
   "execution_count": 53,
   "metadata": {
    "collapsed": false
   },
   "outputs": [],
   "source": [
    "# I thought about merging two dataset together but there are very few users in common between tables, therefore no benifit to merge them.\n",
    "# act_agg = act_agg.reset_index()\n",
    "# mission_complete_agg = mission_complete.groupby('user_id').agg({'idusermission':['count']}).reset_index()\n",
    "# mission_act = pd.merge(act_agg, mission_complete_agg, how = 'inner', left_on = 'user_id',right_on = 'user_id')\n",
    "# mission_act.shape"
   ]
  },
  {
   "cell_type": "code",
   "execution_count": 58,
   "metadata": {
    "collapsed": false
   },
   "outputs": [],
   "source": [
    "# split date column\n",
    "activity[['dt_ymd','dt_hms']] = activity.dt.str.split(\" \",expand=True)\n",
    "activity[['dt_year','dt_month','dt_day']] = activity.dt_ymd.str.split(\"-\",expand=True).astype(str).astype(int)"
   ]
  },
  {
   "cell_type": "code",
   "execution_count": 59,
   "metadata": {
    "collapsed": false
   },
   "outputs": [
    {
     "name": "stderr",
     "output_type": "stream",
     "text": [
      "C:\\Users\\zhang\\Anaconda3\\lib\\site-packages\\pandas\\core\\generic.py:2773: SettingWithCopyWarning: \n",
      "A value is trying to be set on a copy of a slice from a DataFrame.\n",
      "Try using .loc[row_indexer,col_indexer] = value instead\n",
      "\n",
      "See the caveats in the documentation: http://pandas.pydata.org/pandas-docs/stable/indexing.html#indexing-view-versus-copy\n",
      "  self[name] = value\n"
     ]
    }
   ],
   "source": [
    "''' By observing whenever num_events != 0, one or more following columns are not 0.\n",
    "So I take num_events != 0 as the user used the app in any kind on that day'''\n",
    "activity_e = activity[activity['num_events']!=0]\n",
    "activity_e.user_id = activity_e.user_id.astype(str)"
   ]
  },
  {
   "cell_type": "code",
   "execution_count": 61,
   "metadata": {
    "collapsed": false
   },
   "outputs": [
    {
     "name": "stderr",
     "output_type": "stream",
     "text": [
      "C:\\Users\\zhang\\Anaconda3\\lib\\site-packages\\ipykernel\\__main__.py:2: SettingWithCopyWarning: \n",
      "A value is trying to be set on a copy of a slice from a DataFrame.\n",
      "Try using .loc[row_indexer,col_indexer] = value instead\n",
      "\n",
      "See the caveats in the documentation: http://pandas.pydata.org/pandas-docs/stable/indexing.html#indexing-view-versus-copy\n",
      "  from ipykernel import kernelapp as app\n"
     ]
    },
    {
     "data": {
      "text/html": [
       "<div>\n",
       "<table border=\"1\" class=\"dataframe\">\n",
       "  <thead>\n",
       "    <tr style=\"text-align: right;\">\n",
       "      <th></th>\n",
       "      <th>idaggregate_info</th>\n",
       "      <th>user_id</th>\n",
       "      <th>dt</th>\n",
       "      <th>num_events</th>\n",
       "      <th>num_lark_convo_events</th>\n",
       "      <th>num_meals_logged</th>\n",
       "      <th>num_breakfasts</th>\n",
       "      <th>num_lunches</th>\n",
       "      <th>num_dinners</th>\n",
       "      <th>num_snacks</th>\n",
       "      <th>...</th>\n",
       "      <th>sleep_duration</th>\n",
       "      <th>num_activity_events</th>\n",
       "      <th>num_weights</th>\n",
       "      <th>num_notifs</th>\n",
       "      <th>dt_ymd</th>\n",
       "      <th>dt_hms</th>\n",
       "      <th>dt_year</th>\n",
       "      <th>dt_month</th>\n",
       "      <th>dt_day</th>\n",
       "      <th>day_number</th>\n",
       "    </tr>\n",
       "  </thead>\n",
       "  <tbody>\n",
       "    <tr>\n",
       "      <th>27</th>\n",
       "      <td>27</td>\n",
       "      <td>0</td>\n",
       "      <td>2018-08-28 00:00:00</td>\n",
       "      <td>58</td>\n",
       "      <td>15</td>\n",
       "      <td>3</td>\n",
       "      <td>1</td>\n",
       "      <td>1</td>\n",
       "      <td>1</td>\n",
       "      <td>0</td>\n",
       "      <td>...</td>\n",
       "      <td>24300</td>\n",
       "      <td>42</td>\n",
       "      <td>0</td>\n",
       "      <td>9</td>\n",
       "      <td>2018-08-28</td>\n",
       "      <td>00:00:00</td>\n",
       "      <td>2018</td>\n",
       "      <td>8</td>\n",
       "      <td>28</td>\n",
       "      <td>1.0</td>\n",
       "    </tr>\n",
       "    <tr>\n",
       "      <th>28</th>\n",
       "      <td>28</td>\n",
       "      <td>0</td>\n",
       "      <td>2018-08-29 00:00:00</td>\n",
       "      <td>36</td>\n",
       "      <td>5</td>\n",
       "      <td>4</td>\n",
       "      <td>1</td>\n",
       "      <td>1</td>\n",
       "      <td>1</td>\n",
       "      <td>1</td>\n",
       "      <td>...</td>\n",
       "      <td>23438</td>\n",
       "      <td>30</td>\n",
       "      <td>0</td>\n",
       "      <td>9</td>\n",
       "      <td>2018-08-29</td>\n",
       "      <td>00:00:00</td>\n",
       "      <td>2018</td>\n",
       "      <td>8</td>\n",
       "      <td>29</td>\n",
       "      <td>2.0</td>\n",
       "    </tr>\n",
       "    <tr>\n",
       "      <th>50</th>\n",
       "      <td>50</td>\n",
       "      <td>1</td>\n",
       "      <td>2018-08-22 00:00:00</td>\n",
       "      <td>24</td>\n",
       "      <td>12</td>\n",
       "      <td>3</td>\n",
       "      <td>1</td>\n",
       "      <td>1</td>\n",
       "      <td>0</td>\n",
       "      <td>1</td>\n",
       "      <td>...</td>\n",
       "      <td>0</td>\n",
       "      <td>9</td>\n",
       "      <td>1</td>\n",
       "      <td>7</td>\n",
       "      <td>2018-08-22</td>\n",
       "      <td>00:00:00</td>\n",
       "      <td>2018</td>\n",
       "      <td>8</td>\n",
       "      <td>22</td>\n",
       "      <td>1.0</td>\n",
       "    </tr>\n",
       "    <tr>\n",
       "      <th>51</th>\n",
       "      <td>51</td>\n",
       "      <td>1</td>\n",
       "      <td>2018-08-23 00:00:00</td>\n",
       "      <td>12</td>\n",
       "      <td>6</td>\n",
       "      <td>4</td>\n",
       "      <td>1</td>\n",
       "      <td>1</td>\n",
       "      <td>1</td>\n",
       "      <td>1</td>\n",
       "      <td>...</td>\n",
       "      <td>0</td>\n",
       "      <td>4</td>\n",
       "      <td>1</td>\n",
       "      <td>11</td>\n",
       "      <td>2018-08-23</td>\n",
       "      <td>00:00:00</td>\n",
       "      <td>2018</td>\n",
       "      <td>8</td>\n",
       "      <td>23</td>\n",
       "      <td>2.0</td>\n",
       "    </tr>\n",
       "    <tr>\n",
       "      <th>52</th>\n",
       "      <td>52</td>\n",
       "      <td>1</td>\n",
       "      <td>2018-08-24 00:00:00</td>\n",
       "      <td>14</td>\n",
       "      <td>5</td>\n",
       "      <td>3</td>\n",
       "      <td>1</td>\n",
       "      <td>1</td>\n",
       "      <td>0</td>\n",
       "      <td>1</td>\n",
       "      <td>...</td>\n",
       "      <td>0</td>\n",
       "      <td>9</td>\n",
       "      <td>0</td>\n",
       "      <td>4</td>\n",
       "      <td>2018-08-24</td>\n",
       "      <td>00:00:00</td>\n",
       "      <td>2018</td>\n",
       "      <td>8</td>\n",
       "      <td>24</td>\n",
       "      <td>3.0</td>\n",
       "    </tr>\n",
       "  </tbody>\n",
       "</table>\n",
       "<p>5 rows × 21 columns</p>\n",
       "</div>"
      ],
      "text/plain": [
       "    idaggregate_info user_id                   dt  num_events  \\\n",
       "27                27       0  2018-08-28 00:00:00          58   \n",
       "28                28       0  2018-08-29 00:00:00          36   \n",
       "50                50       1  2018-08-22 00:00:00          24   \n",
       "51                51       1  2018-08-23 00:00:00          12   \n",
       "52                52       1  2018-08-24 00:00:00          14   \n",
       "\n",
       "    num_lark_convo_events  num_meals_logged  num_breakfasts  num_lunches  \\\n",
       "27                     15                 3               1            1   \n",
       "28                      5                 4               1            1   \n",
       "50                     12                 3               1            1   \n",
       "51                      6                 4               1            1   \n",
       "52                      5                 3               1            1   \n",
       "\n",
       "    num_dinners  num_snacks     ...      sleep_duration  num_activity_events  \\\n",
       "27            1           0     ...               24300                   42   \n",
       "28            1           1     ...               23438                   30   \n",
       "50            0           1     ...                   0                    9   \n",
       "51            1           1     ...                   0                    4   \n",
       "52            0           1     ...                   0                    9   \n",
       "\n",
       "    num_weights  num_notifs      dt_ymd    dt_hms dt_year  dt_month  dt_day  \\\n",
       "27            0           9  2018-08-28  00:00:00    2018         8      28   \n",
       "28            0           9  2018-08-29  00:00:00    2018         8      29   \n",
       "50            1           7  2018-08-22  00:00:00    2018         8      22   \n",
       "51            1          11  2018-08-23  00:00:00    2018         8      23   \n",
       "52            0           4  2018-08-24  00:00:00    2018         8      24   \n",
       "\n",
       "    day_number  \n",
       "27         1.0  \n",
       "28         2.0  \n",
       "50         1.0  \n",
       "51         2.0  \n",
       "52         3.0  \n",
       "\n",
       "[5 rows x 21 columns]"
      ]
     },
     "execution_count": 61,
     "metadata": {},
     "output_type": "execute_result"
    }
   ],
   "source": [
    "# get day 1 , 2 , 3... by users to evaluate user interactions.\n",
    "activity_e[\"day_number\"] = activity_e.groupby(\"user_id\")[\"dt_day\"].rank(method='dense', ascending=True)\n",
    "activity_e.head()"
   ]
  },
  {
   "cell_type": "code",
   "execution_count": 63,
   "metadata": {
    "collapsed": false
   },
   "outputs": [
    {
     "data": {
      "text/html": [
       "<div>\n",
       "<table border=\"1\" class=\"dataframe\">\n",
       "  <thead>\n",
       "    <tr>\n",
       "      <th></th>\n",
       "      <th colspan=\"2\" halign=\"left\">num_events</th>\n",
       "    </tr>\n",
       "    <tr>\n",
       "      <th></th>\n",
       "      <th>median</th>\n",
       "      <th>count</th>\n",
       "    </tr>\n",
       "    <tr>\n",
       "      <th>day_number</th>\n",
       "      <th></th>\n",
       "      <th></th>\n",
       "    </tr>\n",
       "  </thead>\n",
       "  <tbody>\n",
       "    <tr>\n",
       "      <th>1.0</th>\n",
       "      <td>38.0</td>\n",
       "      <td>34</td>\n",
       "    </tr>\n",
       "    <tr>\n",
       "      <th>2.0</th>\n",
       "      <td>24.0</td>\n",
       "      <td>32</td>\n",
       "    </tr>\n",
       "    <tr>\n",
       "      <th>3.0</th>\n",
       "      <td>20.0</td>\n",
       "      <td>30</td>\n",
       "    </tr>\n",
       "    <tr>\n",
       "      <th>4.0</th>\n",
       "      <td>24.0</td>\n",
       "      <td>27</td>\n",
       "    </tr>\n",
       "    <tr>\n",
       "      <th>5.0</th>\n",
       "      <td>22.0</td>\n",
       "      <td>25</td>\n",
       "    </tr>\n",
       "    <tr>\n",
       "      <th>6.0</th>\n",
       "      <td>17.5</td>\n",
       "      <td>22</td>\n",
       "    </tr>\n",
       "    <tr>\n",
       "      <th>7.0</th>\n",
       "      <td>17.0</td>\n",
       "      <td>19</td>\n",
       "    </tr>\n",
       "    <tr>\n",
       "      <th>8.0</th>\n",
       "      <td>23.0</td>\n",
       "      <td>16</td>\n",
       "    </tr>\n",
       "    <tr>\n",
       "      <th>9.0</th>\n",
       "      <td>20.5</td>\n",
       "      <td>12</td>\n",
       "    </tr>\n",
       "    <tr>\n",
       "      <th>10.0</th>\n",
       "      <td>26.0</td>\n",
       "      <td>10</td>\n",
       "    </tr>\n",
       "  </tbody>\n",
       "</table>\n",
       "</div>"
      ],
      "text/plain": [
       "           num_events      \n",
       "               median count\n",
       "day_number                 \n",
       "1.0              38.0    34\n",
       "2.0              24.0    32\n",
       "3.0              20.0    30\n",
       "4.0              24.0    27\n",
       "5.0              22.0    25\n",
       "6.0              17.5    22\n",
       "7.0              17.0    19\n",
       "8.0              23.0    16\n",
       "9.0              20.5    12\n",
       "10.0             26.0    10"
      ]
     },
     "execution_count": 63,
     "metadata": {},
     "output_type": "execute_result"
    }
   ],
   "source": [
    "''' evaluate interactions by 'num_events' because it's the sum of some other columns. whenever it's not zero, \n",
    "there must be some other columns that are not 0, to simplify the problem, I decided to go by this 'broad' column  '''\n",
    "event_aggregate = activity_e.groupby('day_number').agg({'num_events':['median','count']})\n",
    "event_aggregate.head(10)\n",
    "# Users generally had more interactions on their day 1 than any other days "
   ]
  },
  {
   "cell_type": "code",
   "execution_count": 92,
   "metadata": {
    "collapsed": false
   },
   "outputs": [
    {
     "data": {
      "text/plain": [
       "<matplotlib.axes._subplots.AxesSubplot at 0x1a707fb4518>"
      ]
     },
     "execution_count": 92,
     "metadata": {},
     "output_type": "execute_result"
    },
    {
     "data": {
      "image/png": "[encoded data removed]",
      "text/plain": [
       "<matplotlib.figure.Figure at 0x1a707fd2400>"
      ]
     },
     "metadata": {},
     "output_type": "display_data"
    }
   ],
   "source": [
    "# same findings in plot \n",
    "# I would focus on the first 10 days because later days don't have enoug population size therefore they don't have universality \n",
    "activity_e.groupby('day_number')['num_events'].median().plot(kind='bar')"
   ]
  }
 ],
 "metadata": {
  "kernelspec": {
   "display_name": "Python 3",
   "language": "python",
   "name": "python3"
  },
  "language_info": {
   "codemirror_mode": {
    "name": "ipython",
    "version": 3
   },
   "file_extension": ".py",
   "mimetype": "text/x-python",
   "name": "python",
   "nbconvert_exporter": "python",
   "pygments_lexer": "ipython3",
   "version": "3.6.0"
  }
 },
 "nbformat": 4,
 "nbformat_minor": 2
}
